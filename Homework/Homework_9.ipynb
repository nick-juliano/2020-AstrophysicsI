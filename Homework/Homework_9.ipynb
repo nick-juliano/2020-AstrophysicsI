{
 "cells": [
  {
   "cell_type": "markdown",
   "metadata": {},
   "source": [
    "# Nick Juliano\n",
    "# Astrophysics I | Homework 9"
   ]
  },
  {
   "cell_type": "markdown",
   "metadata": {},
   "source": [
    "## Chapter 8, Problem 3\n",
    "\n",
    "In the Sunyaev-Zeldovich effect, photons from the cosmic microwave background radiation are Compton upscattered in energy by hot electrons in a cluster along the line of sight. Assume 0.001 of the photons are scattered, and the mass of the cluster is $2\\times10^{14}M_{\\odot}$, of which 15% is in the hot gas (fully ionized hydrogen).\n",
    "\n",
    "a) Use the Thomspon cross section to represent the cross section for Compton scattering and assume the cluster is spherical and of constant density, to find the diameter of the cluster.\n",
    "\n",
    "b) If the angular diameter of the cluster is $1^{\\circ}$ , what is its distance?\n",
    "\n",
    "c) If the cluster velocity of recession is 8400 km/s, what is the Hubble parameter, in units of km/s/Mpc?"
   ]
  },
  {
   "cell_type": "markdown",
   "metadata": {},
   "source": [
    "### Solution\n",
    "\n",
    "#### Part A\n",
    "\n",
    "From pg 222, $P= n_e\\sigma_{T}d$\n",
    "\n",
    "Remembering $n_e = \\frac{M}{m_p \\frac{\\pi}{6}d^3}$ we can solve for diameter $d$:\n",
    "\n",
    "$d = (\\frac{6M\\sigma_{T}}{\\pi m_p P})^{1/2}$"
   ]
  },
  {
   "cell_type": "code",
   "execution_count": 1,
   "metadata": {},
   "outputs": [
    {
     "name": "stdout",
     "output_type": "stream",
     "text": [
      "The diameter of the cluster is 2.172 Mpc\n"
     ]
    }
   ],
   "source": [
    "Msun  = 1.989e33\n",
    "mp    = 1.7e-24   \n",
    "sig_T = 6.7e-25 \n",
    "pc    = 3.085678e18\n",
    "pi    = 3.1415926\n",
    "M     = 2e14*Msun*.15                      # \"15% is in the hot gas (fully ionized hydrogen)\"\n",
    "Prob  = 0.001                              # \"Assume 0.001 of the photons are scattered\"\n",
    "d     = ((6*M*sig_T)/(pi*mp*Prob))**(1/2)\n",
    "\n",
    "\n",
    "print('The diameter of the cluster is {:.3f} Mpc'.format(d/(pc*1e6)))"
   ]
  },
  {
   "cell_type": "markdown",
   "metadata": {},
   "source": [
    "#### Part B\n",
    "\n",
    "We can use the small angle approximation, $\\theta = \\frac{d}{D}$, to find the distance $D$."
   ]
  },
  {
   "cell_type": "code",
   "execution_count": 2,
   "metadata": {},
   "outputs": [
    {
     "name": "stdout",
     "output_type": "stream",
     "text": [
      "The distance of the cluster is 124.44 Mpc\n"
     ]
    }
   ],
   "source": [
    "theta = pi/180\n",
    "D     = d/theta\n",
    "\n",
    "\n",
    "print(\"The distance of the cluster is {:.2f} Mpc\".format(D/(pc*1e6)))"
   ]
  },
  {
   "cell_type": "markdown",
   "metadata": {},
   "source": [
    "#### Part C\n",
    "\n",
    "This is a simple application of Hubble's Law, $v = H_0D$."
   ]
  },
  {
   "cell_type": "code",
   "execution_count": 3,
   "metadata": {},
   "outputs": [
    {
     "name": "stdout",
     "output_type": "stream",
     "text": [
      "The Hubble parameter, in units of km/s/Mpc, is 67.5\n"
     ]
    }
   ],
   "source": [
    "v     = 8400\n",
    "H_0   = v/(D/(pc*1e6))\n",
    "\n",
    "\n",
    "print(\"The Hubble parameter, in units of km/s/Mpc, is {:.1f}\".format(H_0))"
   ]
  },
  {
   "cell_type": "markdown",
   "metadata": {},
   "source": [
    "***"
   ]
  },
  {
   "cell_type": "markdown",
   "metadata": {},
   "source": [
    "## Chapter 9, Problem 1\n",
    "\n",
    "Show that the current proper distance to our particle horizon, defined as the most distance place we can see (in principle), for a matter-dominated $k=0$ universe with no cosmological constant, is $r_hR_0=3ct_0$, where  $r_h$ is the comoving radial coordinate of the particle horizion, $R_0$ is the scale factor today, and $t_0$ is the present age of the Universe. Thus, more and more distant regions of the Universe \"enter the horizon\" and become visible as time progresses. Why is the answer different from the naively expected result $ct_0$?"
   ]
  },
  {
   "cell_type": "markdown",
   "metadata": {},
   "source": [
    "### Solution\n",
    "\n",
    "Light moves along null geodesics. Therefore, $ds=0$.\n",
    "\n",
    "$0 = c^2dt^2 - R(t)^2\\frac{dr^2}{1 - kr^2}$\n",
    "\n",
    "Replacing $R(t)$ with $R_0(t/t_0)^{2/3}$, we see that light reaching us froma comoving coordinate $r$ will obey\n",
    "\n",
    "$0 = c^2dt^2 - (R_0(t/t_0)^{2/3})^2\\frac{dr^2}{1 - kr^2}$\n",
    "\n",
    "Taking $k=0$ (a flat universe), we can rearrange the equation to take the form\n",
    "\n",
    "$R_0dr= c(\\frac{t_0}{t})^{2/3} dt$\n",
    "\n",
    "We can integrate this as below\n",
    "\n",
    "$\\int_{r=0}^{r_h} R_0dr= \\int_{t=0}^{t_0}c(\\frac{t_0}{t})^{2/3} dt$\n",
    "\n",
    "$R_0 r_h = ct_0^{2/3}(3t_0^{1/3})$\n",
    "\n",
    "And we see that\n",
    "\n",
    "$\\Large {r_hR_0 = 3ct_0}$\n",
    "\n",
    "This answer differs from the naively expected result $ct_0$ due to considerations of conditions in space-time. Full evaluation of source light (i.e. galaxies) at cosmological distances requires understanding of size of the Universe to second order. A universe with no cosmological constant must decelerate. This means that any source light would have been emitted at a time when the Universe was expanding faster than at the present. Failing to take this change in expansion rate into consideration undoubtedly would lead to a naive expression for the current proper distance to our particle horizion."
   ]
  },
  {
   "cell_type": "markdown",
   "metadata": {},
   "source": [
    "***"
   ]
  },
  {
   "cell_type": "markdown",
   "metadata": {},
   "source": [
    "## Chapter 9, Problem 2\n",
    "\n",
    "For a $k=0$ universe with $\\Omega_{\\Lambda}=1$, that at $t=0$ already has a scale $R_0$, find the comoving radial coordinate, $r_h$, of galaxies that will be on the particle horizon at a time $t$ in the future. Show that in this case $r_h$ approaches a constant, $\\frac{c}{H_0R_0}$ and therefore galaxies beyond this $r_h$ will never become visible."
   ]
  },
  {
   "cell_type": "markdown",
   "metadata": {},
   "source": [
    "### Solution"
   ]
  },
  {
   "cell_type": "markdown",
   "metadata": {},
   "source": [
    "We start at the same point as Chapter 9, Problem 1:\n",
    "\n",
    "$0 = c^2dt^2 - R(t)^2\\frac{dr^2}{1 - kr^2}$\n",
    "\n",
    "But here we take $R(t)=R_0e^{H_0t}$ (this universe starts with a scale $R(t=0) = R_0$). Noting that $k=0$, our expression deviates from Chapter 9, Problem 1 and takes the form.\n",
    "\n",
    "$R_0^2e^{2H_0t}dr^2 = c^2dt^2$\n",
    "\n",
    "Following similar steps as Chapter 9, Problem 1, we can integrate this as below.\n",
    "\n",
    "$R_0 \\int_{0}^{r_h} dr= c \\int_{0}^t e^{-H_0t}dt$\n",
    "\n",
    "$R_0 r_h = \\frac{-c}{H_0}[ e^{-H_0t}]_0^t$\n",
    "\n",
    "Solving for $r_h$\n",
    "\n",
    "$r_h = \\frac{c}{H_0 R_0}(1 -  e^{-H_0t})$\n",
    "\n",
    "***Note that as $t\\rightarrow \\infty$, $r_h \\rightarrow \\frac{c}{H_0 R_0}$ and galaxies behond this $r_h$ will never become visible. ***\n",
    "\n",
    "To show that this r(t) is an exact solution to the Friedman Equations:\n",
    "\n",
    "$R(t)=R_0e^{H_0t}$\n",
    "\n",
    "$\\dot R(t) = H_0 R_0 e^{H_0t}$\n",
    "\n",
    "$\\ddot R(t)= H_0^2 R_0 e^{H_0t}$\n",
    "\n",
    "The Second Friedman Equation:\n",
    "\n",
    "$\\frac{\\ddot R}{R} = -\\frac{4\\pi G}{3c^2}(\\rho c^2 + 3P) + \\frac{\\Lambda}{3}$\n",
    "\n",
    "Solving for $\\lambda$:\n",
    "\n",
    "$\\Omega_\\Lambda \\equiv \\frac{\\Lambda}{3H_0^2} \\Rightarrow 1=\\frac{\\Lambda}{3H_0^2} \\Rightarrow \\Lambda=3H_0^2$\n",
    "\n",
    "The Second Friedman Equations becomes:\n",
    "\n",
    "$\\frac{\\ddot R}{R} = -\\frac{4\\pi G}{3c^2}(\\rho c^2 + 3P) + H_0^2 \\Rightarrow P = \\frac{1}{3}\\rho c^2$\n",
    "\n",
    "This proves that $R(t)=R_0e^{H_0t}$ is an exact solution. "
   ]
  }
 ],
 "metadata": {
  "kernelspec": {
   "display_name": "Python 3",
   "language": "python",
   "name": "python3"
  },
  "language_info": {
   "codemirror_mode": {
    "name": "ipython",
    "version": 3
   },
   "file_extension": ".py",
   "mimetype": "text/x-python",
   "name": "python",
   "nbconvert_exporter": "python",
   "pygments_lexer": "ipython3",
   "version": "3.8.3"
  }
 },
 "nbformat": 4,
 "nbformat_minor": 4
}
