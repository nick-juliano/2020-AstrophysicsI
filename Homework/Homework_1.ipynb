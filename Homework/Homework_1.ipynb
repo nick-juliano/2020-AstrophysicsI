{
 "cells": [
  {
   "cell_type": "markdown",
   "metadata": {},
   "source": [
    "# Nick Juliano\n",
    "## Astrophysics I | Homework 1"
   ]
  },
  {
   "cell_type": "markdown",
   "metadata": {},
   "source": [
    "### ________________Chapter 1, Problem 2:________________\n",
    "\n",
    " A CCD detector at the focal plane of a 1-m diameter telescope records the image of a certain star. Due to the blurring effect of the atmostphere\n",
    "    (this is called \"seeing\" by astronomers) the light from the star is spread over a circular area of radius  $R$ pixels.\n",
    "The total number of photoelectrons over this area, accumulated during the exposure, and due to the light of the star, is  $N_{star}$. Light from the sky produces $n_{sky}$ photoelectrons per pixel in the same exposure."
   ]
  },
  {
   "cell_type": "markdown",
   "metadata": {},
   "source": [
    "#### -----Part A-----\n",
    "\n",
    "Calculate the signal-to-noise ratio (S/N) of the photometric measurement of the star, i.e., the ratio of the counts from the star to the uncertainty in this measurement. Assume Poisson statistics, i.e., that the \"noise\" is the square root of the total counts, from all sources."
   ]
  },
  {
   "cell_type": "markdown",
   "metadata": {},
   "source": [
    "$Signal = N_{star}$\n",
    "\n",
    "$R_{blur} = $ radius of starlight\n",
    "\n",
    "$N_{sky} = \\pi R_{blur}^2 n_{sky}$\n",
    "\n",
    "$\\frac{S}{N} = \\frac{N_{star}}{\\sqrt[]{N_{star}+N_{sky}}}$"
   ]
  },
  {
   "cell_type": "markdown",
   "metadata": {},
   "source": [
    "#### -----Part B-----\n",
    "\n",
    "The same star is observed with the same exposure time, but with a 10-m-diameter telescope. This larger telescope naturally has a larger light gathering area, but also is at a site with a more stable atmosphere, and therefore has 3 times better \"seeing\" (i.e., the light from the stars is spread over an area of radius R/3). Find the S/N in this case."
   ]
  },
  {
   "cell_type": "markdown",
   "metadata": {},
   "source": [
    "In this case, \n",
    "\n",
    "$R_{tel} \\rightarrow 10{R_{tel}}$ so $N_{star}\\rightarrow 100{N_{star}}$, as it is proportional to $R_{tel}^2$\n",
    "\n",
    "$n_{sky} \\rightarrow 100{n_{sky}}$ and  $R_{blur} \\rightarrow \\frac{R_{blur}}{3}$, so $N_{sky} \\rightarrow \\frac{100}{9} N_{sky}$\n",
    "\n",
    "Therefore,\n",
    "\n",
    "$\\frac{S}{N} = \\frac{100{N_{star}}}{\\sqrt[]{100{N_{star}}+\\frac{100}{9} N_{sky}}}$"
   ]
  },
  {
   "cell_type": "markdown",
   "metadata": {},
   "source": [
    "#### -----Part C-----\n",
    "\n",
    "Assuming that the star and the sky are not variable (i.e., photons arrive from them at a constant rate), find the functional dependence of S/N on exposure time, t, in two limiting cases: the counts from the star are much greater than the counts from the sky in the \\\"seeing disk\\\" (this is called the \"source-limited\\\" case); and vice versa (called the \\\"background-limited\\\" case)."
   ]
  },
  {
   "cell_type": "markdown",
   "metadata": {},
   "source": [
    "Time-dependent $\\frac{S}{N}$ :\n",
    "\n",
    "$\\frac{S}{N} = \\frac{t N_{star}}{\\sqrt[]{t(N_{star}+N_{sky}})}$\n",
    "\n",
    "\n",
    "##### Source-limited case $ N_{star}>>N_{sky}$:\n",
    "\n",
    "$\\frac{S}{N} = \\frac{t N_{star}}{\\sqrt[]{tN_{star}}} = \\sqrt[]{N_{star}t}$\n",
    "\n",
    "##### Background-limited case $ N_{star}<<N_{sky}$:\n",
    "\n",
    "$\\frac{S}{N} = \\frac{t N_{star}}{\\sqrt[]{tN_{sky}}} = \\frac{N_{star}\\sqrt[]{t} }{\\sqrt[]{N_{sky}}} $"
   ]
  },
  {
   "cell_type": "markdown",
   "metadata": {},
   "source": [
    "#### -----Part D-----\n",
    "\n",
    "Based on the results of (c), by what factor does the exposure time with the 1-m telescope need to be increased to reach the S/N obtained with the 10-m telescope, for each of the two limiting cases?"
   ]
  },
  {
   "cell_type": "markdown",
   "metadata": {},
   "source": [
    "##### Source-limited case $ N_{star}>>N_{sky}$:\n",
    "\n",
    "For 1-meter telescope: $\\sqrt[]{N_{star}t_1}$\n",
    "\n",
    "For 10-meter telescope: $\\sqrt[]{100N_{star}t_{10}}$\n",
    "\n",
    "$\\Rightarrow t_1 = 100 T_{10}$\n",
    "\n",
    "##### Background-limited case $ N_{star}<<N_{sky}$:\n",
    "\n",
    "For 1-meter telescope: $\\frac{N_{star}\\sqrt[]{t_1} }{\\sqrt[]{N_{sky}}}$\n",
    "\n",
    "For 10-meter telescope: $\\frac{100N_{star}\\sqrt[]{t_{10}} }{\\sqrt[]{\\frac{100}{9}N_{sky}}}$\n",
    "\n",
    "$\\Rightarrow t_1 \\approx 1000 T_{10}$"
   ]
  },
  {
   "cell_type": "markdown",
   "metadata": {},
   "source": [
    "### ________________Chapter 2, Problem 1:________________"
   ]
  },
  {
   "cell_type": "markdown",
   "metadata": {},
   "source": [
    "#### -----Part A-----\n",
    "\n",
    "If the Sun subtends a solid angle $\\Omega$ on the sky, and the flux from the Sun just above the Earth's atmosphere, integrated overall wavelengths, is $f(d_\\odot)$, show that the flux at the solar photosphere is $\\frac{\\pi f(d_\\odot)}{\\Omega}$"
   ]
  },
  {
   "cell_type": "markdown",
   "metadata": {},
   "source": [
    "$f(d_\\odot) = \\frac{L_\\odot}{4\\pi d^2}$\n",
    "\n",
    "$\\frac{F_\\odot}{f(d_\\odot)} = \\frac{R_\\odot ^2}{d_\\odot ^2}$\n",
    "\n",
    "$\\Omega = \\frac{\\pi R_\\odot ^2}{d_\\odot ^2}$\n",
    "\n",
    "$F_\\odot = \\frac{\\pi f(d_\\odot)}{\\Omega}$"
   ]
  },
  {
   "cell_type": "markdown",
   "metadata": {},
   "source": [
    "#### -----Part B-----\n",
    "\n",
    "The angular diameter of the Sun is 0.57 degree. Calculate the solid angle subtended by the Sun, in steradians. (Answer: $\\Omega = 7.8 \\times 10^{-5}$)"
   ]
  },
  {
   "cell_type": "markdown",
   "metadata": {},
   "source": [
    "$R_\\odot = \\alpha d_\\odot$\n",
    "\n",
    "where $\\alpha$ is the angular radius, or $\\frac{0.57^\\circ}{2} \\approx 4.975\\times 10^{-3}$ radians\n",
    "\n",
    "$\\Omega = \\frac{\\pi R_\\odot ^2}{d_\\odot ^2} = \\pi \\alpha^2 \\approx 7.8 \\times 10^{-5} $sr"
   ]
  },
  {
   "cell_type": "markdown",
   "metadata": {},
   "source": [
    "#### -----Part C-----\n",
    "\n",
    "The solar flux at Earth is \n",
    "\n",
    "$f(d_\\odot) = 1.4 \\times 10^6 erg$ $ s^{-1} cm^{-2} = 1.4 kW m^{-2}$.\n",
    "\n",
    "Use (b), and the Stefan-Boltzmann law, to derive the effective surface temperature of the Sun. (Answer: $T_E$ = 5800 K)"
   ]
  },
  {
   "cell_type": "markdown",
   "metadata": {},
   "source": [
    "Stefan-Boltzmann law: $f = \\sigma T^4$, where $\\sigma = 5.7 \\times 10^5 erg$ $s^{-1}  cm^{-2}  k^{-4}$\n",
    "\n",
    "Combine what we know, $F_\\odot = \\frac{f(d_\\odot)\\pi}{\\Omega}$, with $F_\\odot = \\sigma T_E^4$ to get:\n",
    "\n",
    "$\\frac{f(d_\\odot)\\pi}{\\Omega\\sigma} = T_E^4 \\Rightarrow T_E \\approx 5800$ K"
   ]
  },
  {
   "cell_type": "markdown",
   "metadata": {},
   "source": [
    "#### -----Part D-----\n",
    "\n",
    "Derive an expression for the surface temperature of the Sun, in terms only of its solid angle, its flux per unit wavelength $f_{\\lambda}(\\lambda_1)$ at Earth at one wavelength $\\lambda_1$, and fundamental constants."
   ]
  },
  {
   "cell_type": "markdown",
   "metadata": {},
   "source": [
    "Assuming the Sun's surface is an isotropic blackbody, $I_\\lambda = B_\\lambda(T)$\n",
    "\n",
    "Remembering that $B_\\lambda = \\frac{2 h c^2}{\\lambda^2}\\frac{1}{e^{\\frac{hc}{\\lambda k T}}-1}$\n",
    "\n",
    "Thus, $F_\\lambda(\\lambda_1)=\\pi B_\\lambda (T)$\n",
    "\n",
    "It follows that $f_\\lambda(\\lambda_1) = \\frac{\\pi^2}{\\Omega B_\\lambda(T)}$\n",
    "\n"
   ]
  }
 ],
 "metadata": {
  "kernelspec": {
   "display_name": "Python 3",
   "language": "python",
   "name": "python3"
  },
  "language_info": {
   "codemirror_mode": {
    "name": "ipython",
    "version": 3
   },
   "file_extension": ".py",
   "mimetype": "text/x-python",
   "name": "python",
   "nbconvert_exporter": "python",
   "pygments_lexer": "ipython3",
   "version": "3.7.7"
  }
 },
 "nbformat": 4,
 "nbformat_minor": 4
}
