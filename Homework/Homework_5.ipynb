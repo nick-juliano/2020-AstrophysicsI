{
 "cells": [
  {
   "cell_type": "markdown",
   "metadata": {},
   "source": [
    "# Nick Juliano\n",
    "# Astrophysics I | Homework 5"
   ]
  },
  {
   "cell_type": "markdown",
   "metadata": {},
   "source": [
    "## Chapter 4, Problem 4\n",
    "<font color=Gray>\n",
    "A type-Ia supernova is the thermonuclear eplosion of a white dwarf, possibly after the white dwarf has accreted matter and approached or reahed the Chandrasekhar limit.\n",
    "    \n",
    "a. Use the virial theorem to obtain an expression for the mean pressure inside a white dwarf of mass $M$ and radius $R$.\n",
    "    \n",
    "b. Use the result of (a) to estimate, to an order of magnitude, the speed of sound, $v_s=\\sqrt{dP/d\\rho}$ ~ $\\sqrt{P/\\rho}$, inside a white dwarf. In an accreting white dwarf with a carbon core that has reached nuclear ignition temperature, a nuclear burning “flame” encompasses the star at the sound velocity or faster. Within how much time, in seconds, does the flame traverse the radius of the white dwarf, assuming $R = 10^4 km, M=1.4M_\\odot$? Note that this soundcrossing timescale is  ~$(G\\rho)^{-1/2}$, which is also the free-fall timescale (Eq. 3.15.)\n",
    "    \n",
    "c. Calculate the total energy output, in ergs, of the explosion, assuming the entire mass of the white dwarf is synthesized from carbon to nickel, with a mass-to-energy conversion efficiency of 0.1%. Compare this energy to the gravitational binding energy of the white dwarf, to demonstrate that the white dwarf explodes completely, without leaving any remnant.\n",
    "    \n",
    "d. Gamma rays from the radioactive decays $^{56}Ni \\rightarrow ^{56}Co + \\gamma \\rightarrow ^{56}Fe + \\gamma $ drive most of the optical luminosity of a type-Iasupernova. The atomic weights of $^{56}Ni$ and $^{56}Fe$ are 55.942135 and 55.934941, respectively. Calculate the total energy radiated in the optical range during the event. Given that the characteristic times for the two radioactive decay processes are 8.8 days and 111 days, respectively, show that the typical luminosity is $~10^{10}L_\\odot$.\n",
    "    \n",
    "e. It takes a type-Ia supernova about 17 days from explosion to reaching its maximum brightness. Show that this timescale corresponds to the time that it takes from light to diffuse, in a random walk, through an expanding shell of gas. The shell has a mass $M = 1.4 M_\\odot$, a constant expansion velocity of $v = 10^4 km/s$, and an atomic-line opacity of $\\kappa \\approx 0.3 cm^2/g$. Thus, the \"light-curve rise time\" is just the time it takes for the radioactive decay luminosity from the entire shell to become visible. After this point, the supernova fades with time, still powered by the exponentially declining luminosity of the radioactive decay of the expanding mass, but now fully visible. \n",
    "    \n",
    "</font>"
   ]
  },
  {
   "cell_type": "markdown",
   "metadata": {},
   "source": [
    "### Solution\n",
    "#### Part a\n",
    "\n",
    "The virial theorem: $\\bar{P} V = -\\frac{1}{3}E_{gr}$\n",
    "\n",
    "Using $V=\\frac{4\\pi}{3}r^3$ and $E_{gr} \\approx -\\frac{GM^2}{r}$, we get:\n",
    "\n",
    "$\\Large \\bar{P} \\approx \\frac{GM^2}{R^4}$"
   ]
  },
  {
   "cell_type": "markdown",
   "metadata": {},
   "source": [
    "***"
   ]
  },
  {
   "cell_type": "markdown",
   "metadata": {},
   "source": [
    "#### Part b\n",
    "\n",
    "Using $v_s$ ~ $\\sqrt{\\frac{P}{\\rho}}$ where we found an expression for $P$ above and the uniform density implies that $\\rho \\approx \\frac{M}{R^3}$, we see that\n",
    "\n",
    "$v_s$ ~ $\\sqrt{\\frac{GM}{R}}$\n",
    "\n",
    "We can use this with the values given above to calculate the $v_s$ and find estimate a time $\\tau$ using $\\tau=\\frac{R}{v_s}$, as below:"
   ]
  },
  {
   "cell_type": "code",
   "execution_count": 1,
   "metadata": {},
   "outputs": [
    {
     "name": "stdout",
     "output_type": "stream",
     "text": [
      "𝑣 ~ 4.31e+08 cm/s\n",
      "\n",
      "𝜏 ~ 2.32 s\n"
     ]
    }
   ],
   "source": [
    "R    = 1e4    \n",
    "R    = 1e4 * 1e5  # converted to centimeters (CGS)\n",
    "Msun = 1.989e33  \n",
    "M    = 1.4 * Msun \n",
    "G    = 6.67259e-8\n",
    "v_s  = (G * M / R)**(1/2)\n",
    "t    = R / v_s\n",
    "\n",
    "print(\"𝑣 ~ {:.2e} cm/s\".format(v_s))\n",
    "print()\n",
    "print('𝜏 ~ {:.2f} s'.format(t))"
   ]
  },
  {
   "cell_type": "markdown",
   "metadata": {},
   "source": [
    "***"
   ]
  },
  {
   "cell_type": "markdown",
   "metadata": {},
   "source": [
    "#### Part c\n",
    "\n",
    "Given that 0.1% of the mass is converted into energy, we see that $E \\propto 0.001M$. More specifically:\n",
    "\n",
    "$E = 0.001Mc^2$\n",
    "\n",
    "The gravitational binding energy is $U=\\frac{3GM^2}{5R} \\propto \\frac{GM^2}{R}$. We can compare the two, as below."
   ]
  },
  {
   "cell_type": "code",
   "execution_count": 2,
   "metadata": {},
   "outputs": [
    {
     "name": "stdout",
     "output_type": "stream",
     "text": [
      "E = 2.50e+51 erg\n",
      "\n",
      "U = 5.17e+50 erg\n",
      "\n",
      "E/U = 4.84\n",
      "\n"
     ]
    }
   ],
   "source": [
    "#calculate explosion energy\n",
    "Msun = 1.989e33  \n",
    "M    = 1.4 * Msun \n",
    "c     =2.99792458e10 # cm/s\n",
    "\n",
    "E     = 0.001*M*c**2\n",
    "\n",
    "#calculate gravitational binding energy\n",
    "R    = 1e4    \n",
    "R    = 1e4 * 1e5  # converted to centimeters (CGS)\n",
    "Msun = 1.989e33  \n",
    "M    = 1.4 * Msun \n",
    "G    = 6.67259e-8\n",
    "\n",
    "U = (G*M**2)/(R)\n",
    "\n",
    "print(\"E = {:.2e} erg\".format(E))\n",
    "print()\n",
    "print(\"U = {:.2e} erg\".format(U))\n",
    "print()\n",
    "print(\"E/U = {:.2f}\".format(E/U))\n",
    "print()"
   ]
  },
  {
   "cell_type": "markdown",
   "metadata": {},
   "source": [
    "Here we see that the energy from the explosion is nearly 5 times larger than the gravitational binding energy, demonstrating that the white dwarf is disrupted completely, without leaving any remnant."
   ]
  },
  {
   "cell_type": "markdown",
   "metadata": {},
   "source": [
    "***"
   ]
  },
  {
   "cell_type": "markdown",
   "metadata": {},
   "source": [
    "#### Part d\n",
    "\n",
    "To calculate the total energy radiated, we must find the difference in mass between $^{56}Ni$ and $^{56}Fe$ to see how much mass was radiated per reaction and determine how many reactions occured in the event. We then use this to compute the luminosity. All of this is computed, with comments, below:"
   ]
  },
  {
   "cell_type": "code",
   "execution_count": 3,
   "metadata": {},
   "outputs": [
    {
     "name": "stdout",
     "output_type": "stream",
     "text": [
      "E = 3.21e+50 erg\n",
      "\n",
      "L = 8.11e+09 L_sun\n"
     ]
    }
   ],
   "source": [
    "#Find Mass Difference\n",
    "\n",
    "m_Ni  = 55.942135 \n",
    "m_Fe  = 55.934941\n",
    "\n",
    "del_m = m_Ni-m_Fe\n",
    "\n",
    "#Convert mass difference to energy of mass difference\n",
    "\n",
    "E_del = (del_m)*931.5e6*1.602e-12 # CGS\n",
    "\n",
    "#Calculate number of nickel atoms, or how many reactions occured in event\n",
    "\n",
    "N_Ni  = M/(m_Ni*1.663e-24) #CGS\n",
    "\n",
    "#Calculate total energy radiated in optical range\n",
    "\n",
    "E_rad = N_Ni*E_del\n",
    "\n",
    "#Use the calculated total energy to show the typical luminosity of this event\n",
    "\n",
    "t=8.8+111\n",
    "t=t*24*60*60 # CGS\n",
    "L=E_rad/t\n",
    "Lsun=3.827e33\n",
    "\n",
    "print('E = {:.2e} erg'.format(E_rad))\n",
    "print()\n",
    "print('L = {:.2e} L_sun'.format(L/Lsun))"
   ]
  },
  {
   "cell_type": "markdown",
   "metadata": {},
   "source": [
    "This shows that $L \\approx 10^{10}L_\\odot$"
   ]
  },
  {
   "cell_type": "markdown",
   "metadata": {},
   "source": [
    "***"
   ]
  },
  {
   "cell_type": "markdown",
   "metadata": {},
   "source": [
    "#### Part e\n",
    "\n",
    "\n",
    "We are looking to solve for $t=\\frac{R^2}{lc}$ and arrive at $t\\approx 17$ days.\n",
    "\n",
    "\n",
    "Taking $l=\\frac{1}{\\kappa \\rho}$, $\\rho=\\frac{M}{V}$, $V=\\frac{4}{3}\\pi R^3$, and $R=vt$, we see that $t=\\frac{(vt)^2(\\kappa M)(3)}{((4 \\pi (vt)^3) c}$, which, simplified and solved for t, results in:\n",
    "\n",
    "$\\Large t=\\sqrt{\\frac{3\\kappa M}{4 pi c v}}$\n",
    "\n",
    "This can be solved for analytically, as below:"
   ]
  },
  {
   "cell_type": "code",
   "execution_count": 4,
   "metadata": {},
   "outputs": [
    {
     "name": "stdout",
     "output_type": "stream",
     "text": [
      "t = 17.24 days\n"
     ]
    }
   ],
   "source": [
    "Msun = 1.989e33  \n",
    "M    = 1.4 * Msun \n",
    "pi   = 3.14\n",
    "c    = 2.99792458e10\n",
    "\n",
    "v    = 3e4 * 1e5\n",
    "k    = 0.3\n",
    "\n",
    "t    = ((3*k*M)/(4*pi*c*v))**(1/2) #cgs\n",
    "t    = t/(60*60*24)                #days\n",
    "\n",
    "\n",
    "print('t = {:.2f} days'.format(t))"
   ]
  },
  {
   "cell_type": "markdown",
   "metadata": {},
   "source": [
    "This confirms that the given timescale corresponds to the time it takes for lite to diffuse, in a random walk, through an expanding shell of gas."
   ]
  }
 ],
 "metadata": {
  "kernelspec": {
   "display_name": "Python 3",
   "language": "python",
   "name": "python3"
  },
  "language_info": {
   "codemirror_mode": {
    "name": "ipython",
    "version": 3
   },
   "file_extension": ".py",
   "mimetype": "text/x-python",
   "name": "python",
   "nbconvert_exporter": "python",
   "pygments_lexer": "ipython3",
   "version": "3.7.7"
  }
 },
 "nbformat": 4,
 "nbformat_minor": 4
}
