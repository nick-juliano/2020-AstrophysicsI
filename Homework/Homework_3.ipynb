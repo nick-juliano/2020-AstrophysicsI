{
 "cells": [
  {
   "cell_type": "markdown",
   "metadata": {},
   "source": [
    "# Nick Juliano\n",
    "# Astrophysics I | Homework 3"
   ]
  },
  {
   "cell_type": "markdown",
   "metadata": {},
   "source": [
    "## ________________Chapter 3, Problem 2:________________\n",
    "\n",
    "The pressure inside a normal star is given by (Eq. 3.75)\n",
    "\n",
    "$P=P_g+P_{rad}=\\frac{\\rho k T}{\\bar{m}}=\\frac{1}{3}aT^4$\n",
    "\n",
    "\n",
    "Using parameters appropriate to the Sun, show that throughout the Sun, including the core, where the internal temperature is about $10^7 K$, the kinetic pressure dominates."
   ]
  },
  {
   "cell_type": "markdown",
   "metadata": {},
   "source": [
    "#### Answer:\n",
    "\n",
    "We can compute the radiation pressure versus the gas pressure inside the core of the Sun and on the solar surface. While we know from class and intuition that gas pressure will be at is greatest in the core of the Sun, it is good practice to be thorough in our calculations.\n",
    "\n",
    "The following calculation will be made below for the core and surface of the Sun:\n",
    "\n",
    "$\\Large \\frac{P_{rad}}{P_g}$\n",
    "\n",
    "where $P_{rad}=\\frac{1}{3}aT^4$ and  $P_g=\\frac{\\rho k T}{\\bar{m}}$, remembering that the density, $\\rho$, and temperature, $T$, have pre-defined values for each region. K and a are the Boltzmann constant and the radiation constant, respectively. The mean mass, $\\bar{m} =\\frac{2m_H}{1+3X+0.5Y}$ varies based on solar abundances (which have defined values for the central region and the entirety of the star) and have been computed in class. \n",
    "\n",
    "To show that kinetic pressure dominates, these computed values must be very small, implying that $P_{rad}>>P_g$, and kinetic pressure indeed dominates."
   ]
  },
  {
   "cell_type": "code",
   "execution_count": 1,
   "metadata": {},
   "outputs": [
    {
     "name": "stdout",
     "output_type": "stream",
     "text": [
      "Radiation Pressure vs gas pressure inside the core of the Sun is  0.00017431746031746026\n",
      "Radiation Pressure vs gas pressure on the solar surface is  3.661230224761905e-12\n"
     ]
    }
   ],
   "source": [
    "rho_in    = 150            #g/cm^3\n",
    "rho_out   = 1              #g/cm^3\n",
    "\n",
    "k         = 1.4e-16       #cm^2 g / s^2 K #erg/K\n",
    "\n",
    "a         = 7.6e-15        #erg / cm^3 K^4\n",
    "\n",
    "T_out     = 5.8e3          #kelvin\n",
    "T_in      = 1e7            #kelvin\n",
    "\n",
    "m_H       = 1.7e-24        #grams\n",
    "m_bar_in  = m_H*0.85       #as calculated in class for the central region of the Sun\n",
    "m_bar_out = m_H*0.61       #as calculated in class for the entirety of the Sun\n",
    "\n",
    "P_rad_in      = (a*(T_in**4))/3\n",
    "P_g_in        = (rho_in*k*T_in)/m_bar_in\n",
    "rad_VS_g_in   = P_rad_in/P_g_in\n",
    "\n",
    "P_rad_out     = (a*(T_out**4))/3\n",
    "P_g_out       = (rho_out*k*T_out)/m_bar_out\n",
    "rad_VS_g_out  = P_rad_out/P_g_out\n",
    "\n",
    "print(\"Radiation Pressure vs gas pressure inside the core of the Sun is \", rad_VS_g_in)\n",
    "\n",
    "print(\"Radiation Pressure vs gas pressure on the solar surface is \", rad_VS_g_out)"
   ]
  },
  {
   "cell_type": "markdown",
   "metadata": {},
   "source": [
    "Because both of these values are very small (<<1), we see that gas kinetic pressure dominates in both boundaries."
   ]
  },
  {
   "cell_type": "markdown",
   "metadata": {},
   "source": [
    "## ________________Chapter 3, Problem 4:________________\n",
    "\n",
    "Consider a hypothetical star of radius $R$, with density $\\rho$ that is constant, i.e., independent of radius. The star is composed of a classical, nonrelativistic, ideal gas of fully ionized hydrogen.\n",
    "\n",
    "### Part A\n",
    "\n",
    "Solve the equations of stellar structure for the pressure profile, $P(r)$, with the boundary condition $P(R)=0$."
   ]
  },
  {
   "cell_type": "markdown",
   "metadata": {},
   "source": [
    "#### Answer:\n",
    "\n",
    "Remembering that $\\frac{dP(r)}{dr} = -\\frac{GM(r)\\rho(r)}{r^2}$, we can solve for pressure $P(r)$ as follows:\n",
    "\n",
    "$\\int_{r}^{R}dP(r) = -\\int_{r}^{R}\\frac{GM(r)\\rho(r)}{r^2}dr$\n",
    "\n",
    "Noting that this hypothetical star has a constant density, $\\rho$ is not $\\rho(r)$ in this case, and can be removed from the integral. Therefore,\n",
    "\n",
    "$P(R)-P(r)= -G\\rho\\int_{r}^{R}\\frac{M(r)}{r^2}dr \\Rightarrow P(r) = G\\rho\\int_{r}^{R}\\frac{M(r)}{r^2}dr$\n",
    "\n",
    "Further analysis of $M(r)$ leads us to $\\int dM(r) = \\int 4\\pi r^2 \\rho dr = \\frac{4 \\pi r^3 \\rho}{3} = M(r)$\n",
    "\n",
    "And finally,\n",
    "\n",
    "$P(r) = G\\rho\\int_{r}^{R}\\frac{\\frac{4 \\pi r^3 \\rho}{3}}{r^2}dr$\n",
    "\n",
    "$\\frac{4 \\pi \\rho^2}{3}G \\int_{r}^{R}{r}dr$\n",
    "\n",
    "$\\Large P(r) = \\frac { \\pi \\rho^2 G}{3}(R^2-r^2)$"
   ]
  },
  {
   "cell_type": "markdown",
   "metadata": {},
   "source": [
    "### Part B\n",
    "\n",
    "Find the temperature profile, $T(r)$."
   ]
  },
  {
   "cell_type": "markdown",
   "metadata": {},
   "source": [
    "#### Answer:\n",
    "\n",
    "To solve for $T(r)$, we examine the known equation for gas pressure $P_g =\\frac{\\rho}{\\bar{m}} kT$ and apply it to our solution from Part A (above).\n",
    "\n",
    "$\\frac{\\rho}{\\bar{m}} k T(r) = \\frac { \\pi \\rho^2 G}{3}(R^2-r^2)$\n",
    "\n",
    "Solving this equation for temperature $T$ and remembering that $\\bar{m}=\\frac{m_H}{2}$ for fully ionized hydrogen gives us the solution:\n",
    "\n",
    "$ \\Large T(r) = \\frac{\\pi \\rho G m_H}{3k}(R^2-r^2)$"
   ]
  },
  {
   "cell_type": "markdown",
   "metadata": {},
   "source": [
    "### Part C\n",
    "\n",
    "Assume that the nuclear energy production rate depends on temperature as $\\epsilon \\sim T^4$. (This is the approximate depedence of the rate for the p-p chain at the temperature in the core of the Sun.) At what radius does $\\epsilon$ decrease to 0.1 of its central value, and what fraction of the star's volume is included within the radius?"
   ]
  },
  {
   "cell_type": "markdown",
   "metadata": {},
   "source": [
    "#### Answer:\n",
    "\n",
    "$\\epsilon \\approx T^4 \\approx (R^2-r^2)^4$\n",
    "\n",
    "To discover at what radius $\\epsilon$ decreases to 0.1 of its central value, we must first determine its central value(where $r=0$):\n",
    "\n",
    "$\\epsilon_c \\approx (R^2-0^2)^4 \\approx R^8$\n",
    "\n",
    "We then solve for $r_{0.1}$, using $\\epsilon_c=R^8$, as below:\n",
    "\n",
    "$0.1\\epsilon_c \\approx (R^2-r_{0.1})^4 \\Rightarrow 0.1R^8 \\approx R^8 (1-\\frac{r_{0.1}^2}{R^2})^4$\n",
    "\n",
    "$\\Rightarrow 0.1^{1/4} \\approx 1 - \\frac{r_{0.1}^2}{R^2}$\n",
    "\n",
    "and finally, solving for $r_{0.1}$:\n",
    "\n",
    "$\\Large r_{0.1} \\approx R\\sqrt{1-0.1^{1/4}}$\n",
    "\n",
    "Where $\\sqrt{1-0.1^{1/4}}$ is calculated below"
   ]
  },
  {
   "cell_type": "code",
   "execution_count": 2,
   "metadata": {},
   "outputs": [
    {
     "data": {
      "text/plain": [
       "0.6615577637739964"
      ]
     },
     "execution_count": 2,
     "metadata": {},
     "output_type": "execute_result"
    }
   ],
   "source": [
    "(1-0.1**(1/4))**(1/2)"
   ]
  },
  {
   "cell_type": "code",
   "execution_count": 3,
   "metadata": {},
   "outputs": [
    {
     "name": "stdout",
     "output_type": "stream",
     "text": [
      "The fraction of the star's volume included in this radius is 0.28953649420336336 times the total volume\n"
     ]
    }
   ],
   "source": [
    "#Calculation of the fraction of the star's volume:\n",
    "\n",
    "V_frac=((1-0.1**(1/4))**(1/2))**3\n",
    "\n",
    "print(\"The fraction of the star's volume included in this radius is\", V_frac, \"times the total volume\")"
   ]
  },
  {
   "cell_type": "markdown",
   "metadata": {},
   "source": [
    "## ________________Chapter 3, Problem 6:________________\n",
    "\n",
    "Consider a star of mass $M=10M_{\\odot}$, composed entirely of fully ionized $^{12}C$.  Its core temperature is $T_C=6\\times 10^8 K$ (compared to $T_{C,\\odot}=1.5 \\times 10^7 K$ for the Sun)."
   ]
  },
  {
   "cell_type": "markdown",
   "metadata": {},
   "source": [
    "### Part A\n",
    "\n",
    "What is the mean particle mass $\\bar{m}$, in units of $m_H$?"
   ]
  },
  {
   "cell_type": "markdown",
   "metadata": {},
   "source": [
    "#### Answer:\n",
    "\n",
    "When $^{12}C$ is fully ionized, it contributes 1+6 particles (one nucleus and six electrons). Therefore, the mean mass per particle is:\n",
    "\n",
    "$\\bar{m}=\\frac{m_{nucleus}+n_e m_e}{n_{nucleus}+n_e}\\approx \\frac{A m_H}{n_p+n_e}=\\frac{12}{7}m_H$"
   ]
  },
  {
   "cell_type": "markdown",
   "metadata": {},
   "source": [
    "### Part B\n",
    "\n",
    "Use the classical ideal gas law, the dimensional relation between mass, density and radius, and the virial theorem to find the scaling of the stellar radius $r_{\\star}$ with the total mass $M$, the mean particle mass $\\bar{m}$, and core temperature $T_C$. Using the values of these parameters for the Sun, derive the radius of the star."
   ]
  },
  {
   "cell_type": "markdown",
   "metadata": {},
   "source": [
    "#### Answer:\n",
    "\n",
    "The ideal gas law is:\n",
    "\n",
    "$\\Large P_g = nkT$\n",
    "\n",
    "We can also remember the following 4 equations for stellar structure to derive scaling relations:\n",
    "\n",
    "1) $\\frac{dP(r)}{dr}=-\\frac{GM(r)\\rho(r)}{r^2} \\Rightarrow \\frac{P}{r_{\\star}}=\\frac{GM\\rho}{r_{\\star}^2} \\Rightarrow {P} \\approx \\frac{GM\\rho}{r_{\\star}} $\n",
    "\n",
    "Finding a relationship between $\\rho$, M, and r:\n",
    "\n",
    "2) $\\frac{dM(r)}{dr}=4\\pi r^2 \\rho(r) \\Rightarrow \\frac{M}{r_{\\star}} \\approx r_{\\star}^2 \\rho \\Rightarrow M \\approx r_{\\star}^3 \\rho$ and  $\\large \\rho \\approx \\frac{M}{r_{\\star}^3}$\n",
    "\n",
    "Therefore, \n",
    "\n",
    "3)     $    \\Large {P}\\approx \\frac{M^2}{r_{\\star}^4}$\n",
    "\n",
    "The virial theorem states:\n",
    "\n",
    "$\\bar{P}=-\\frac{1}{3}\\frac{E_{gr}}{V}$\n",
    "\n",
    "since $E_{gr} \\approx -\\frac{GM_\\star^2}{r_\\star}$, $\\Large \\bar{P} \\approx \\frac{M_\\star^2}{r_\\star^4}$, which confirms EQ 3 above.\n",
    "\n",
    "To find the scaling of the radius $r_\\star$, we revisit the ideal gas law:\n",
    "\n",
    "$P_g = nkT = \\frac{\\rho k T}{\\bar{m}} \\approx \\frac{M T_C}{\\bar{m} r_\\star^3}$\n",
    "\n",
    "Since ${P}\\approx \\frac{M^2}{r_{\\star}^4}$, we find that $\\frac{M T_C}{\\bar{m} r_\\star^3} \\approx \\frac{M^2}{r_{\\star}^4}$, which leads to an expression for the scaling of stellar radius:\n",
    "\n",
    "$\\LARGE r_\\star \\approx \\frac{M \\bar{m}}{T_C}$\n",
    "\n",
    "Using the values we know for the Sun, we can calculate the radius of the sun and the star below:"
   ]
  },
  {
   "cell_type": "code",
   "execution_count": 4,
   "metadata": {},
   "outputs": [
    {
     "name": "stdout",
     "output_type": "stream",
     "text": [
      "Sun:  6.913333333333334e-32\n",
      "Star:  4.8571428571428566e-32\n",
      "In units of solar radii, the star's radius is:  0.7025761124121779\n"
     ]
    }
   ],
   "source": [
    "#For the Sun\n",
    "\n",
    "M_sun=1 #m_sun\n",
    "m_bar_sun= m_H*0.61 \n",
    "T_C_sun=1.5e7\n",
    "\n",
    "r_sun=((M_sun*m_bar_sun)/T_C_sun)\n",
    "\n",
    "print(\"Sun: \", r_sun)\n",
    "\n",
    "#For the Star\n",
    "\n",
    "M=10 #m_sun\n",
    "m_bar= (12/7)*m_H\n",
    "T_C=6e8\n",
    "\n",
    "r_star=((M*m_bar)/(T_C))\n",
    "\n",
    "print(\"Star: \", r_star)\n",
    "\n",
    "print(\"In units of solar radii, the star's radius is: \", r_star/r_sun)"
   ]
  },
  {
   "cell_type": "markdown",
   "metadata": {},
   "source": [
    "### Part C\n",
    "\n",
    "If the luminosity of the star is $L=10^7L_{\\odot}$, what is the effective surface temperature?"
   ]
  },
  {
   "cell_type": "markdown",
   "metadata": {},
   "source": [
    "#### Answer:\n",
    "\n",
    "$\\frac{dT(r)}{dr}=-\\frac{3L(r)\\kappa(r) \\rho(r)}{4 \\pi r^2 4 a c T(r)^3} \\Rightarrow \\frac{T}{r_{\\star}} \\approx \\frac{L \\kappa \\rho}{r_{\\star}^2 T^3} \\Rightarrow {T} \\approx (\\frac{L \\kappa \\rho}{r})^{1/4} $\n",
    " \n",
    "Since $\\rho \\approx \\frac{M}{r_{\\star}^3}$, ${T} \\approx (\\frac{L \\kappa M}{r^4})^{1/4} \\Rightarrow T_{eff} =(\\frac{L}{4 \\pi R^2 \\sigma})^{\\frac{1}{4}}$"
   ]
  },
  {
   "cell_type": "code",
   "execution_count": 5,
   "metadata": {},
   "outputs": [
    {
     "name": "stdout",
     "output_type": "stream",
     "text": [
      "In units of solar effective surface temperature, the star's effective surface temperature is:  67.08930766502957\n",
      "In units of Kelvin, the star's effective surface temperature is:  389117.98445717146\n"
     ]
    }
   ],
   "source": [
    "T_surface_sun     = 5.8e3 #kelvin\n",
    "L = 1e7 #T_sun units\n",
    "r_st = r_star/r_sun #r_sun units\n",
    "T_eff = (L/(r_st**2))**(1/4) #T_eff_sun units\n",
    "T_eff_star = T_eff*T_surface_sun #Kelvin\n",
    "T_eff_star\n",
    "print(\"In units of solar effective surface temperature, the star's effective surface temperature is: \", T_eff)\n",
    "print(\"In units of Kelvin, the star's effective surface temperature is: \", T_eff_star)"
   ]
  },
  {
   "cell_type": "markdown",
   "metadata": {},
   "source": [
    "### Part D\n",
    "\n",
    "Suppose the star produces energy via the reaction $^{12}C + ^{12}C \\rightarrow  ^{24}{Mg}$. The atmoic weight of $^{12}C$ is 12, and that of $^{24}Mg$ is 23.985. (The atmoic weight of a nucleus is defined aas the ratio of its mass to 1/12 the mass of a $^{12}C$ nucleus.) What fraction of the star's mass can be converted into thermal energy?"
   ]
  },
  {
   "cell_type": "markdown",
   "metadata": {},
   "source": [
    "#### Answer:\n",
    "\n",
    "The star's mass is $M_{\\star}=10M_\\odot$\n",
    "\n",
    "The star's composition is 100% $^{12}C$\n",
    "\n",
    "The total number of carbon atoms is $n_{Carbon}=\\frac{10M_\\odot}{12 \\times 1.66 \\times 10^{-24}}$\n",
    "\n",
    "The total number of reactions is $n_{reactions}=\\frac{n_{Carbon}}{2}$\n",
    "\n",
    "The mass difference after the reaction is $\\Delta{M}=2M_{Carbon}-M_{Magnesium}$, all of which is converted to thermal energy.\n",
    "\n",
    "The total mass converted to thermal energy is $\\Delta{M_{total}}=n_{reactions} \\times \\Delta{M}$\n",
    "\n",
    "The fraction of the star's mass converted into thermal energy is $\\frac{\\Delta{M_{total}}}{M_{\\star}}$"
   ]
  },
  {
   "cell_type": "code",
   "execution_count": 6,
   "metadata": {},
   "outputs": [
    {
     "name": "stdout",
     "output_type": "stream",
     "text": [
      "The fraction of the star's mass converted into thermal energy is:  0.000625117922244876\n"
     ]
    }
   ],
   "source": [
    "m_sun=1.99e33 #grams\n",
    "m_star=10*m_sun\n",
    "n_c=m_star/(12*1.66e-24)\n",
    "n_r=n_c/2\n",
    "d_m=(2*12)-23.985 #amu\n",
    "d_m=d_m/6.02296e+23 #grams\n",
    "d_m_total=n_r*d_m\n",
    "fraction=d_m_total/m_star\n",
    "print(\"The fraction of the star's mass converted into thermal energy is: \", fraction)"
   ]
  },
  {
   "cell_type": "markdown",
   "metadata": {},
   "source": [
    "### Part E\n",
    "\n",
    "How much time does it take for the star to use up to 10% of its carbon?"
   ]
  },
  {
   "cell_type": "markdown",
   "metadata": {},
   "source": [
    "#### Answer:\n",
    "\n",
    "The energy difference between final and initial elements is $\\Delta{E}=2M_{Carbon}-M_{Magnesium}$  \n",
    "\n",
    "The amount of energy production in burning of 10% carbon is $E_{10} = 0.1\\frac{n_{carbon}}{2} \\times \\Delta{E}$\n",
    "\n",
    "The time it takes for carbon to be converted into thermal energy, assuming $L \\neq L(t)$:\n",
    "\n",
    "$t_{10}=\\frac{E_{10}}{L}$"
   ]
  },
  {
   "cell_type": "code",
   "execution_count": 7,
   "metadata": {},
   "outputs": [
    {
     "name": "stdout",
     "output_type": "stream",
     "text": [
      "It will take 921.9353909551909 years for the star to use up 10% of its carbon.\n"
     ]
    }
   ],
   "source": [
    "d_E=(2*12)-23.985 #amu\n",
    "d_E=d_E*931.494*1.60218e-6 #erg\n",
    "E_10=0.1*(n_c/2)*d_E\n",
    "\n",
    "L= 1e7 #L_sun\n",
    "L= L*3.846e33  #erg/s\n",
    "\n",
    "t_10=E_10/L #seconds\n",
    "t_10=t_10/60/60/24/365 #years\n",
    "\n",
    "print(\"It will take\", t_10, \"years for the star to use up 10% of its carbon.\")"
   ]
  }
 ],
 "metadata": {
  "kernelspec": {
   "display_name": "Python 3",
   "language": "python",
   "name": "python3"
  },
  "language_info": {
   "codemirror_mode": {
    "name": "ipython",
    "version": 3
   },
   "file_extension": ".py",
   "mimetype": "text/x-python",
   "name": "python",
   "nbconvert_exporter": "python",
   "pygments_lexer": "ipython3",
   "version": "3.7.7"
  }
 },
 "nbformat": 4,
 "nbformat_minor": 4
}
