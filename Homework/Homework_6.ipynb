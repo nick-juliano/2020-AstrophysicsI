{
 "cells": [
  {
   "cell_type": "markdown",
   "metadata": {},
   "source": [
    "# Nick Juliano\n",
    "# Astrophysics I | Homework 6"
   ]
  },
  {
   "cell_type": "markdown",
   "metadata": {},
   "source": [
    "## Chapter 4, Problem 4\n",
    "\n",
    "A compact accreting object of mass $M$ is radiating at the Eddington luminosity corresponding to that mass,\n",
    "\n",
    "\n",
    "$L_{E}=\\frac{4\\pi cGMm_p}{\\sigma_T}=1.3 \\times 10^{38} \\frac{erg}{s} \\frac{M}{M_{{\\odot}}}$\n",
    "\n",
    "\n",
    "An astronaut wearing a white space suit is placed at rest at an arbitrary distance from the compact object. Assuming that the cross-sectional area of the atronaut's body is $A=1.5  m^2$, find the maximum allowed mass $m$ of the astronaut, in kg, if the radiation pressure is to support her from falling into the compact object.\n",
    "\n"
   ]
  },
  {
   "cell_type": "markdown",
   "metadata": {},
   "source": [
    "### Solution\n",
    "\n",
    "We simply take the Eddington luminosity equation and solve for the proton mass, then substitute the new cross section of the astronaut to find the maximum mass she could be.\n",
    "\n",
    "$L_{E}=\\frac{4\\pi cGMm_p}{\\sigma_T}$\n",
    "\n",
    "We can solve for $m_p$, as below:\n",
    "\n",
    "\n",
    "$m_p = \\frac{L_{E} \\sigma_ T}{4\\pi cGM} $\n",
    "\n",
    "Remembering that $L_{E} = 1.3 \\times 10^{38}$ and comparing $m$ to $m_p$ and $2A$ to $\\sigma_{T}$ (where $A =1.5 m^2$) as hinted in the textbook, we come to the following calculable equation: \n",
    "\n",
    "$\\Large m = \\frac{A L_{E}}{2 \\pi cGM_{\\odot}}$\n",
    "\n",
    "This is calculated below:"
   ]
  },
  {
   "cell_type": "code",
   "execution_count": 1,
   "metadata": {},
   "outputs": [
    {
     "name": "stdout",
     "output_type": "stream",
     "text": [
      "The maximum allowed mass of the astronaut is 77978 g, or 77.98 kg\n"
     ]
    }
   ],
   "source": [
    "c     = 3.0e10\n",
    "me    = 9.109e-28\n",
    "G     = 6.67e-8\n",
    "M_sun = 1.989e33\n",
    "pi    = 3.1415926\n",
    "A     = 1.5*(100)**2 #cgs\n",
    "L_E   = 1.3e38\n",
    "\n",
    "m     = (A*L_E)/(2*pi*c*G*M_sun)\n",
    "\n",
    "print(\"The maximum allowed mass of the astronaut is {:.0f} g,\".format(m), \"or {:.2f} kg\".format(m/1000))"
   ]
  }
 ],
 "metadata": {
  "kernelspec": {
   "display_name": "Python 3",
   "language": "python",
   "name": "python3"
  },
  "language_info": {
   "codemirror_mode": {
    "name": "ipython",
    "version": 3
   },
   "file_extension": ".py",
   "mimetype": "text/x-python",
   "name": "python",
   "nbconvert_exporter": "python",
   "pygments_lexer": "ipython3",
   "version": "3.7.7"
  }
 },
 "nbformat": 4,
 "nbformat_minor": 4
}
