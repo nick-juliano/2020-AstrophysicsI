{
 "cells": [
  {
   "cell_type": "markdown",
   "metadata": {},
   "source": [
    "# Nick Juliano\n",
    "# Astrophysics I | Homework 6"
   ]
  },
  {
   "cell_type": "markdown",
   "metadata": {},
   "source": [
    "## Chapter 5, Problem 5\n",
    "\n",
    "For strong shocks in general, and specifically for adiabatic index $\\gamma = 5/3 $, find the ratios between the following energies and the kinetic energy per unit mass of the inflowing upstream gas in the shock frame, $E_{k,0} = v_0^2/2$:\n",
    "\n",
    "a. the thermal energy per unit mass, $\\epsilon$, of the shocked gas;\n",
    "\n",
    "b. the kinetic energy per unit mass of the shocked gas, in the shock frame;\n",
    "\n",
    "c. the kinetic energy per unit mass of the shocked gas, in the observer frame."
   ]
  },
  {
   "cell_type": "markdown",
   "metadata": {},
   "source": [
    "### Solution\n",
    "\n",
    "#### Part A\n",
    "\n",
    "The thermal energy per unit mass, $\\epsilon$, can be expressed as:\n",
    "\n",
    "$\\epsilon = \\frac{1}{\\gamma - 1}\\frac{P}{\\rho}$\n",
    "\n",
    "Which makes $\\frac{\\epsilon}{E_{k,0}}$ take the form:\n",
    "\n",
    "$\\frac{\\epsilon}{E_{k,0}} = \\frac{1}{\\gamma - 1}\\frac{2 P}{\\rho v_0^2}$\n",
    "\n",
    "We also know that $v_1= \\frac{\\rho_0 v_0}{\\rho_1}$ and $P_1 + \\rho_1 v_1^2 = P_0 + \\rho_0 v_0^2$. When these expressions are solved for $v_0^2$, we see that\n",
    "\n",
    "$v_0^2= \\frac{P_0 - P_1}{\\rho_0(\\rho_0/\\rho_1 - 1)}$\n",
    "\n",
    "Using this expression for $v_0^2$, our target fraction $\\frac{\\epsilon}{E_{k,0}}$ takes the form\n",
    "\n",
    "$\\frac{\\epsilon}{E_{k,0}} = \\frac{1}{\\gamma - 1}\\frac{2 P_1}{P_0 - P_1}( \\frac{\\rho_0^2}{\\rho_1^2} - \\frac{\\rho_0}{\\rho_1})$\n",
    "\n",
    "Since this is a strong shock, $P_1 >> P_0$, and \n",
    "\n",
    "$\\frac{P_1}{P_0 - P_1} = -1$\n",
    "\n",
    "This makes our target fraction take the form \n",
    "\n",
    "$\\frac{\\epsilon}{E_{k,0}} = \\frac{-2}{\\gamma - 1}(\\frac{\\rho_0^2}{\\rho_1^2} - \\frac{\\rho_0}{\\rho_1})$\n",
    "\n",
    "An expression for $\\frac{\\rho_0}{\\rho_1}$ is also given:\n",
    "\n",
    "$\\frac{\\rho_0}{\\rho_1}= \\frac{\\gamma -1}{\\gamma +1}$\n",
    "\n",
    "Which helps us reduce $\\frac{\\rho_0^2}{\\rho_1^2} - \\frac{\\rho_0}{\\rho_1}$ to\n",
    "\n",
    "$\\frac{\\rho_0^2}{\\rho_1^2} - \\frac{\\rho_0}{\\rho_1} = \\frac{(\\gamma -1)^2}{(\\gamma +1)^2} - \\frac{\\rho_0}{\\rho_1} = \\frac{(\\gamma -1)}{(\\gamma +1)} = \\frac{\\gamma -1}{(\\gamma +1)^2}$ \n",
    "\n",
    "We finally arrive at $\\frac{\\epsilon}{E_{k,0}} = \\frac{4}{(\\gamma + 1)^2}$\n",
    "\n",
    "Since $\\gamma =\\frac{5}{3}$, $\\frac{\\epsilon}{E_{k,0}} = \\frac{9}{16}$\n",
    "\n",
    "#### Part B\n",
    "\n",
    "the kinetic energy per unit mass of the shocked gas in the shock frame, $E_{k,1}$ is expressed as\n",
    "\n",
    "$E_{k,1} = \\frac{v_1^2}{2}$\n",
    "\n",
    "This makes our target fraction take the form\n",
    "\n",
    "$\\frac{E_{k,1}}{E_{k,0}} = \\frac{v_1^2}{v_0^2}$\n",
    "\n",
    "Remembering that $\\frac{\\rho_0}{\\rho_1}= \\frac{\\gamma -1}{\\gamma +1} = \\frac{v_1}{v_0}$, we arrive at \n",
    "\n",
    "\n",
    "We arrive at $\\frac{E_{k,1}}{E_{k,0}} = \\frac{(\\gamma -1)^2}{(\\gamma + 1)^2}$\n",
    "\n",
    "Thus, $\\frac{E_{k,1}}{E_{k,0}} = \\frac{1}{16}$\n",
    "\n",
    "#### Part C\n",
    "\n",
    "Here, $E_{k,1} = \\frac{v^2}{2} = \\frac{(v_0 - v_1)^2}{2}$\n",
    "\n",
    "So $\\frac{E_{k,1}}{E_{k,0}} = \\frac{(v_0 - v_1)^2}{v_0^2} = 1 + \\frac{v_1}{v_0}(-2+ \\frac{v_1}{v_0})$\n",
    "\n",
    "Taking our expression for $\\frac{v_1}{v_0}$ in part b, we can finally arrive at\n",
    "\n",
    "$\\frac{E_{k,1}}{E_{k,0}} = 1 + \\frac{\\gamma -1}{\\gamma +1}(-2+ \\frac{\\gamma -1}{\\gamma +1}) = \\frac{4}{(\\gamma + 1)^2}$\n",
    "\n",
    "Thus, $\\frac{E_{k,1}}{E_{k,0}} = \\frac{9}{16}$"
   ]
  },
  {
   "cell_type": "markdown",
   "metadata": {},
   "source": [
    "## Chapter 5, Problem 6\n",
    "\n",
    "In the supernova remnant SNR1006 observations spaced over several years show that the outer X-ray emitting rim, which traces the forward shock, is expanding at a velocity $v_0 = 6000 km/s$. When observed in synchrotron radiation at a photon energy of $h\\nu_{sync} = 4$ keV, the width of the rim is $d=0.1$ pc. One explanation for the thin rim is that the width corresponds to the distance traveled by the emitting electrons until they lose their energy to synchrotron radiation (i.e., over a synchrotron cooling time).\n",
    "\n",
    "a. Assume the electrons are advected with the downstream gas, and hence receded from the strong forward shock at a constant velocity $v_1 = v_0/4$. Find the magnetic field B behind the shock (assuming it is uniform), and the energies of the electrons that radiate at 4 keV. \n",
    "\n",
    "b. If this scenario is correct, what should be the rim width at synchrotron photon energies of 1 keV? If the rim width were instead found to be indepent of energy, what could be an alternative explanation? "
   ]
  },
  {
   "cell_type": "markdown",
   "metadata": {},
   "source": [
    "### Solution\n",
    "\n",
    "#### Part A\n",
    "\n",
    "To find the magnetic field, we first look at the equation\n",
    "\n",
    "$t_{cool} \\approx 10 yr  \\frac{1}{\\gamma B^2}$\n",
    "\n",
    "Which we can combine with the following equation:\n",
    "\n",
    "$\\nu_{sync} = 4.2$ MHz $\\gamma^2 B$\n",
    "\n",
    "Remembering that $v=d \\times t$, we arrive at an equation for B:\n",
    "\n",
    "\n",
    "$B=(\\frac{4.2MHz}{\\nu_{sync}}(\\frac{d}{10(v_{0}-v_{1})})^{2})^{-1/3}$\n",
    "\n",
    "We can solve for this analytically, as below"
   ]
  },
  {
   "cell_type": "code",
   "execution_count": 2,
   "metadata": {},
   "outputs": [
    {
     "name": "stdout",
     "output_type": "stream",
     "text": [
      "B =  9.738203140180637e-10 Gauss\n"
     ]
    }
   ],
   "source": [
    "ev = 1.602e-12\n",
    "h  = 6.625e-27\n",
    "pc = 3.085678e18\n",
    "nu = 4000*ev/h\n",
    "d  = 0.1*pc\n",
    "v0 = 6000*1e5\n",
    "v1 = v0/4\n",
    "B  = ((4.2e6/nu)*(10*(v0-v1)/d)**2)**(1/3)\n",
    "\n",
    "print(\"B = \", B, \"Gauss\")"
   ]
  },
  {
   "cell_type": "markdown",
   "metadata": {},
   "source": [
    "To solve for the electron energies, we solve the following equation:\n",
    "\n",
    "$E = \\gamma m_e c^2$ where $\\gamma = (\\frac{\\nu_{sync}}{4.2MHz B})^{1/2}$"
   ]
  },
  {
   "cell_type": "code",
   "execution_count": 16,
   "metadata": {},
   "outputs": [
    {
     "name": "stdout",
     "output_type": "stream",
     "text": [
      "The electrons have energies of 7869641523933084.0 eV\n"
     ]
    }
   ],
   "source": [
    "m_e   = 9.109e-28\n",
    "c     = 3.0e10\n",
    "\n",
    "gamma = (nu/4.2e6/B)**(1/2)\n",
    "E     = gamma*m_e*(c**2)\n",
    "\n",
    "print(\"The electrons have energies of\", E/ev, \"eV\")"
   ]
  },
  {
   "cell_type": "markdown",
   "metadata": {},
   "source": [
    "#### Part B\n",
    "\n",
    "The rim width can be determined as below:"
   ]
  },
  {
   "cell_type": "code",
   "execution_count": 18,
   "metadata": {},
   "outputs": [
    {
     "name": "stdout",
     "output_type": "stream",
     "text": [
      "The rim width is 0.19999999999999968 parsecs\n"
     ]
    }
   ],
   "source": [
    "nu = 1000 * ev / h\n",
    "d  = (10 * (v0 - v1) * (4.2e6 / (nu * B**3))**(1/2))/3.085678e18\n",
    "print(\"The rim width is\", d, \"parsecs\")"
   ]
  },
  {
   "cell_type": "markdown",
   "metadata": {},
   "source": [
    "If the rim width were instead found to be independent of energy, an alternative explanation could be correspondance instead to other initial conditions such as the density distribution of surrounding ISM, which, according to the Rankine-Hugoniot jump conditions, could lead to an exponential change in velocity and overal width. "
   ]
  }
 ],
 "metadata": {
  "kernelspec": {
   "display_name": "Python 3",
   "language": "python",
   "name": "python3"
  },
  "language_info": {
   "codemirror_mode": {
    "name": "ipython",
    "version": 3
   },
   "file_extension": ".py",
   "mimetype": "text/x-python",
   "name": "python",
   "nbconvert_exporter": "python",
   "pygments_lexer": "ipython3",
   "version": "3.7.7"
  }
 },
 "nbformat": 4,
 "nbformat_minor": 4
}
