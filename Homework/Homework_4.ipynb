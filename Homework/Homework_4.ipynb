{
 "cells": [
  {
   "cell_type": "markdown",
   "metadata": {},
   "source": [
    "# **Nick Juliano**\n",
    "# **Astrophysics I | Homework 3**"
   ]
  },
  {
   "cell_type": "markdown",
   "metadata": {},
   "source": [
    "## <font color=Red> **<center>Chapter 4, Problem 1</center>** </font>\n",
    "<font color=Gray>\n",
    "In a fully degenerate gas, all the particles have energies lower than the Fermi energy. For such a gas we found (Eq. 4.19) the relation between the density $n_e$ and the Fermi momentum $p_F$:\n",
    "    \n",
    "$ $\n",
    "    \n",
    "$\\Large n_e = \\frac{8 \\pi}{3h^3}p_F^3$.\n",
    "    \n",
    "a. For a nonrelativistic electron gas, use the relation $p_F = \\sqrt{2m_eE_F}$ between the Fermi momentum, the electron mass $m_e$, and the Fermi energy $E_F$, to express $E_F$ in terms of $n_e$ and $m_e$.\n",
    "    \n",
    "b. Estimate a characteristic $n_e$ under typical conditions inside a white dwarf. Using the result of (a), and assuming a temperature $T = 10^7 K$, evaluate numerically the ratio $E_{th}/E_F$, where $E_{th}$ is the characteristic thermal energy of an electron in a gas of temperature $T$, to see that the electrons inside a white dwarf are indeed degenerate.\n",
    "</font>"
   ]
  },
  {
   "cell_type": "markdown",
   "metadata": {},
   "source": [
    "### **<center>Solution</center>**\n",
    "### Part a\n",
    "\n",
    "Using $n_e = \\frac{8 \\pi}{3h^3}p_F^3 \\Rightarrow p_F =(\\frac{3n_eh^3}{8 \\pi})^{1/3} $ and $p_F = \\sqrt{2m_eE_F}$, we see that:\n",
    "\n",
    "<center>$\\Large E_F=\\frac{1}{2m_e} (\\frac{3 n_e h^3}{8 \\pi})^{2/3}$</center>\n",
    "\n",
    "### Part b\n",
    "\n",
    "By using $E_F=\\frac{1}{2m_e} (\\frac{3 n_e h^3}{8 \\pi})^{2/3}$ and $E_{th}=kT$, we can evaluate the ratio $E_{th}/E_F$.\n",
    "\n",
    "First, we need to estimate number density $n_e$ as follows:\n",
    "\n",
    "$n_e = \\frac{N_e}{V} \\approx \\frac{3M_{wd}}{8\\pi m_p R_{wd}^3}$, where $M_{wd} \\approx 0.6M_\\odot$ and $R_{wd} \\approx 8.5 \\times 10^9 cm$ $^{^{[1]}}$\n",
    "\n",
    "###### $^{^{*}}$(see page 75 of the textbook for more information) \n",
    "\n",
    "With this estimated number density, we can compute $E_{th}/E_F$ as below:"
   ]
  },
  {
   "cell_type": "code",
   "execution_count": 1,
   "metadata": {},
   "outputs": [
    {
     "name": "stdout",
     "output_type": "stream",
     "text": [
      "The estimated number density is  1.3867969569403425e+26\n",
      "The characteristic thermal energy is  1.38064852e-09\n",
      "The Fermi energy is  1.56526992731944e-09\n",
      "The thermal energy - Fermi energy ratio is   0.8820513931193911\n"
     ]
    }
   ],
   "source": [
    "m_e=9.1093837015e-28\n",
    "h=6.62607004e-27\n",
    "pi=3.1415926\n",
    "\n",
    "\n",
    "pi=3.1415926\n",
    "M_sun=1.989e33\n",
    "M=0.6*M_sun\n",
    "m_p=1.6726219e-24\n",
    "R=8.5e9\n",
    "\n",
    "n_e=(3*M)/(8*pi*m_p*(R**3))\n",
    "\n",
    "\n",
    "print(\"The estimated number density is \", n_e)\n",
    "\n",
    "k=1.38064852e-16\n",
    "T=1e7\n",
    "E_th=k*T\n",
    "\n",
    "print(\"The characteristic thermal energy is \", E_th)\n",
    "\n",
    "E_f=(1/(2*m_e))*((3*n_e*(h**3))/(8*pi))**(2/3)\n",
    "\n",
    "print(\"The Fermi energy is \", E_f)\n",
    "\n",
    "E_ratio=E_th/E_f\n",
    "\n",
    "print(\"The thermal energy - Fermi energy ratio is  \", E_ratio)"
   ]
  },
  {
   "cell_type": "markdown",
   "metadata": {},
   "source": [
    "This confirms that electrons inside a white dwarf are indeed degenerate."
   ]
  },
  {
   "cell_type": "markdown",
   "metadata": {},
   "source": [
    "***"
   ]
  },
  {
   "cell_type": "markdown",
   "metadata": {},
   "source": [
    "## <font color=Red> **<center>Chapter 4, Problem 2</center>** </font>\n",
    "\n",
    "<font color=Gray>\n",
    "The luminosity function of a population of objects is its observed distribution of luminosities. White dwarfs have a luminosity function of approximately $dN/dL \\approx L^{-7/4}$, with a cutoff below a luminosity $L \\approx 3 \\times 10^{-5}L_\\odot$. Show that this follows from the properties of individual white dwarfs, as follows.\n",
    "\n",
    "$ $\n",
    "    \n",
    "a. To obtain the power-law dependence, assume that a constant rate of star formation leads to a constant rate of white dwarf formation, $dN/dt$, from stars that complete their evolution. The white dwarf luminosity depends primarily on temperature, as $L \\propto T^4$. Finally, from Eq 4.57, the white dwarf cooling rate can be roughly approximated as $dT/dt \\propto T^4$. Use the chain rule to combine these three relations and obtain the functional form of $dN/dL$.\n",
    "    \n",
    "b. As noted in section 4.2.3.3, after Eq 4.59, the Universe has a finite age, and therefore the oldest white dwarfs (which have had the longest time to cool) are no cooler than ~4000 K. The most common white dwarfs have a mass of $\\approx 0.6M_\\odot$, for which the radius is ~8500km. Use this input to obtain the low-luminosity cutoff in the white dwarf luminosity function."
   ]
  },
  {
   "cell_type": "markdown",
   "metadata": {},
   "source": [
    "### **<center>Solution</center>**\n",
    "\n",
    "### Part a\n",
    "\n",
    "The chain rule tells us that $\\frac{dN}{dL}=\\frac{dN}{dt}\\frac{dt}{dL}$, so we look to solve for $\\frac{dN}{dL}$ by finding $\\frac{dN}{dt}$ and $\\frac{dt}{dL}$\n",
    "\n",
    "#### To find $\\frac{dt}{dL}$:\n",
    "\n",
    "From $\\frac{dT}{dt} \\propto T^4$, we find that $t \\propto -\\frac{1}{3T^3}$\n",
    "\n",
    "From  $L \\propto T^4$, we find that $T^3 \\propto L^{3/4}$\n",
    "\n",
    "Now it becomes clear that that $t \\propto -\\frac{1}{3L^{3/4}}$ and $\\frac{dt}{dL} \\propto \\frac{1}{4L^{7/4}}$\n",
    "\n",
    "#### To find $\\frac{dN}{dt}$:\n",
    "\n",
    "Because we assume a constant rate of star formation, $\\frac{dN}{dt} = c$ $^{^{[2]}}$\n",
    "\n",
    "#### Solving for $\\frac{dN}{dL}$:\n",
    "\n",
    "$\\frac{dN}{dL}=\\frac{dN}{dt}\\frac{dt}{dL} \\propto c \\frac{1}{4L^{7/4}}$\n",
    "\n",
    "We finally see that $\\Large \\frac{dN}{dL} \\propto L^{-7/4}$, which confirms the given function in the question.\n",
    "\n",
    "### Part b\n",
    "\n",
    "Equation 4.56 gives us:\n",
    "\n",
    "$L = 4\\pi r_{wd}^2 \\sigma T_E^4$\n",
    "\n",
    "We can use this equation to solve for the low-luminosity cutoff in [$\\frac{erg}{second}$] and divide it by the known value for the Sun's luminosity ($3.827\\times 10^{33} \\frac{erg}{second}$) to find the low-luminosity cutoff in [$L_\\odot$]\n"
   ]
  },
  {
   "cell_type": "code",
   "execution_count": 2,
   "metadata": {},
   "outputs": [
    {
     "name": "stdout",
     "output_type": "stream",
     "text": [
      "The low-luminosity cutoff is 1.3179573888620953e+29 erg/s, which is 3.4438395319103615e-05 in units of solar luminosity\n"
     ]
    }
   ],
   "source": [
    "#constants\n",
    "pi    = 3.1415926\n",
    "sig   = 5.6704e-5\n",
    "M_sun = 1.989e33\n",
    "Lsun  = 3.827e33\n",
    "\n",
    "#given values\n",
    "M     = 0.6*M_sun\n",
    "r_wd  = 8.5e8\n",
    "T     = 4000\n",
    "\n",
    "#low-luminosity cutoff calculation\n",
    "L     = 4*pi*r_wd**2*sig*(T**4)    #note that mass is not needed to find the luminosity of a white dwarf\n",
    "\n",
    "\n",
    "print(\"The low-luminosity cutoff is\", L, \"erg/s, which is\", L/Lsun, \"in units of solar luminosity\")"
   ]
  },
  {
   "cell_type": "markdown",
   "metadata": {},
   "source": [
    "These values confirm the low-luminosity cutoff value given in the question"
   ]
  },
  {
   "cell_type": "markdown",
   "metadata": {},
   "source": [
    "***"
   ]
  },
  {
   "cell_type": "markdown",
   "metadata": {},
   "source": [
    "###### $^{^{*}}$these values were obtained from page 75 of the textbook  \n",
    "###### $^{^{**}}$this assumption also tells us that the amount of white dwarfs in the Universe is proportional to time, or $N= c(t-t_o)$, where $c$ is the constant formation rate of white dwarfs and $t_o$ is the time when white dwarfs began to form. $t>t_o$ because a negative amount of white dwarfs is not possible."
   ]
  }
 ],
 "metadata": {
  "kernelspec": {
   "display_name": "Python 3",
   "language": "python",
   "name": "python3"
  },
  "language_info": {
   "codemirror_mode": {
    "name": "ipython",
    "version": 3
   },
   "file_extension": ".py",
   "mimetype": "text/x-python",
   "name": "python",
   "nbconvert_exporter": "python",
   "pygments_lexer": "ipython3",
   "version": "3.7.7"
  }
 },
 "nbformat": 4,
 "nbformat_minor": 4
}
