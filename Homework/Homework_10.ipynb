{
 "cells": [
  {
   "cell_type": "markdown",
   "metadata": {},
   "source": [
    "# Nick Juliano\n",
    "# Astrophysics I | Homework 10"
   ]
  },
  {
   "cell_type": "markdown",
   "metadata": {},
   "source": [
    "## Chapter 9, Problem 3\n",
    "\n",
    "a) For the same cosmology as in Problem 2 ($k=0, \\Omega_\\Lambda=1$), find the comoving radius $r_{eh}$ of galaxies that will be on our event horizon at a time $t$ in the future, i.e., galaxies with which we will be unable to communicate. In other words, light signals sent by us at time $t$ will never reach those galaxies, light signals sent out by those galaxies at time $t$ will never reach us, and therefore we will never see those galaxies as they appeared at time $t$ and thereafter. Show that, in this case, $r_{eh}$ shrinks exponentially, and we thus lose the possibility of communication with more and more of our neighbors.\n",
    "\n",
    "b) Assume that $H_0=70km/s/Mpc$ and find, for such a universe (which approximates the actual world we live in), within how many years will the galaxies in the nearby Virgo cluster (distance ~ $15Mpc$) reach the event horizon."
   ]
  },
  {
   "cell_type": "markdown",
   "metadata": {},
   "source": [
    "### Solution\n",
    "\n",
    "#### Part A\n",
    "\n",
    "As we are following the same cosmological model, this question is largely similar to Chapter 9, Question 2 with an adjustment to our limits of integration. We can start at the point in Chapter 9, Question 2 where we begin to integrate, but we instead integrate $r$ from $0$ to $r_{eh}$ and $t$ from $t$ to $\\infty$:\n",
    "\n",
    "\n",
    "$R_0 \\int_{0}^{r_{eh}} dr= c \\int_{t}^{\\infty} e^{-H_0t}dt$\n",
    "\n",
    "$R_0r_{eh}= \\frac{-c}{H_0}[ e^{-H_0(\\infty - t)}]$\n",
    "\n",
    "Solving for $r_{eh}$\n",
    "\n",
    "$r_{eh} = \\frac{c}{H_0 R_0}e^{-H_0(t)}$\n",
    "\n",
    "Here, we can se that $r_{eh}$ goes as $e^{-t}$ and we lose the possibility of communication with more and more of our neighbors."
   ]
  },
  {
   "cell_type": "markdown",
   "metadata": {},
   "source": [
    "#### Part B\n",
    "\n",
    "This question is asking us to analytically solve our above equation for $t$ using $H_0 = 70$, $r_{eh}=15/R_0$. Rearranging the above equation, we can arrive at\n",
    "\n",
    "$t = -\\frac{1}{H_0}\\ln(\\frac{H_0 R_0r_{eh}}{c})$\n",
    "\n",
    "Solved below:"
   ]
  },
  {
   "cell_type": "code",
   "execution_count": 14,
   "metadata": {},
   "outputs": [
    {
     "name": "stdout",
     "output_type": "stream",
     "text": [
      "The galaxies in the Virgo cluster will reach the event horizon in 79 Gyr\n"
     ]
    }
   ],
   "source": [
    "from math import log as log\n",
    "\n",
    "H_0  = 70   #km/s/Mpc \n",
    "r_eh = 15   #Mpc\n",
    "c    = 3e5  #km/s \n",
    "\n",
    "t = -(1/(H_0/1e6/3.086e13))*log(H_0*r_eh/c)/3.1557e16 \n",
    "#           |------------|                  |--------|\n",
    "# Converts: [km/s/Mpc] to [Hz]       &     [s] to [Gyr] \n",
    "\n",
    "print(\"The galaxies in the Virgo cluster will reach the event horizon in {:.0f} Gyr\".format(t))"
   ]
  }
 ],
 "metadata": {
  "kernelspec": {
   "display_name": "Python 3",
   "language": "python",
   "name": "python3"
  },
  "language_info": {
   "codemirror_mode": {
    "name": "ipython",
    "version": 3
   },
   "file_extension": ".py",
   "mimetype": "text/x-python",
   "name": "python",
   "nbconvert_exporter": "python",
   "pygments_lexer": "ipython3",
   "version": "3.8.3"
  }
 },
 "nbformat": 4,
 "nbformat_minor": 4
}
