{
 "cells": [
  {
   "cell_type": "markdown",
   "metadata": {},
   "source": [
    "# Nick Juliano\n",
    "# Astrophysics I | Homework 2"
   ]
  },
  {
   "cell_type": "markdown",
   "metadata": {},
   "source": [
    "## ________________Chapter 2, Problem 4:________________\n",
    "\n",
    "The maximal radial velocities measured for the two components of a spectroscopic binary are $100$ and $200 km s^{-1}$, with an orbital period of 2 days. The orbits are circular."
   ]
  },
  {
   "cell_type": "markdown",
   "metadata": {},
   "source": [
    "### -----Part A-----\n",
    "\n",
    "Find the mass ratio of the two stars."
   ]
  },
  {
   "cell_type": "markdown",
   "metadata": {},
   "source": [
    "#### Answer:\n",
    "\n",
    "$\\frac{\\mid v_{1, obs} \\mid}{\\mid v_{2, obs} \\mid} = \\frac{M_2}{M_1}$"
   ]
  },
  {
   "cell_type": "code",
   "execution_count": 1,
   "metadata": {},
   "outputs": [
    {
     "data": {
      "text/markdown": [
       "$\\Large \\frac{M_2}{M_1}= 0.5$"
      ],
      "text/plain": [
       "<IPython.core.display.Markdown object>"
      ]
     },
     "metadata": {},
     "output_type": "display_data"
    }
   ],
   "source": [
    "import numpy as np\n",
    "from IPython.display import Markdown\n",
    "\n",
    "v_1 = 100e5 \n",
    "v_2 = 200e5 \n",
    "\n",
    "M_ratio = v_1/v_2\n",
    "\n",
    "display(Markdown(rf\"$\\Large \\frac{{M_2}}{{M_1}}= {M_ratio}$\"))"
   ]
  },
  {
   "cell_type": "markdown",
   "metadata": {},
   "source": [
    "### -----Part B-----\n",
    "\n",
    "Use Kepler's law to calculate the value of $M sin^3i$ for each star, where $M$ is the mass and $i$ is the inclination to the observer's line of sight of the perpendicular to the orbital plane."
   ]
  },
  {
   "cell_type": "markdown",
   "metadata": {},
   "source": [
    "#### Answer:\n",
    "\n",
    "Kepler's Third Law: \n",
    "\n",
    "$(M_1 + M_2)sin^3i = \\frac{\\tau (\\mid v_{1, obs} \\mid + \\mid v_{2, obs})^3}{2 \\pi G}$\n",
    "\n",
    "Therefore,\n",
    "\n",
    "$(M_1 + \\frac{M_1 \\mid v_{1, obs}\\mid}{\\mid v_{2, obs}\\mid})sin^3i = \\frac{\\tau (\\mid v_{1, obs} \\mid + \\mid v_{2, obs})^3}{2 \\pi G}$\n",
    "\n",
    "Finally,\n",
    "\n",
    "$M_1sin^3i = \\frac{\\tau (\\mid v_{1, obs}\\mid + \\mid v_{2, obs})^3}{2 \\pi G}(1+\\frac{\\mid v_{1, obs}\\mid}{\\mid v_{2, obs}\\mid})^{-1}$"
   ]
  },
  {
   "cell_type": "code",
   "execution_count": 2,
   "metadata": {},
   "outputs": [
    {
     "data": {
      "text/markdown": [
       "$\\Large{M_1 sin^3i} = 3.7314339436091246$"
      ],
      "text/plain": [
       "<IPython.core.display.Markdown object>"
      ]
     },
     "metadata": {},
     "output_type": "display_data"
    },
    {
     "data": {
      "text/markdown": [
       "$\\Large{M_2 sin^3i} = 1.8657169718045623$"
      ],
      "text/plain": [
       "<IPython.core.display.Markdown object>"
      ]
     },
     "metadata": {},
     "output_type": "display_data"
    }
   ],
   "source": [
    "tau = 2*24*3600 \n",
    "G = 6.67e-8     \n",
    "Msun = 1.989e33\n",
    "\n",
    "M1sin3i = tau*(v_1 + v_2)**3/3/np.pi/G/Msun\n",
    "M2sin3i = tau*(v_1 + v_2)**3/6/np.pi/G/Msun\n",
    "\n",
    "display(Markdown(rf\"$\\Large{{M_1 sin^3i}} = {M1sin3i}$\"))\n",
    "display(Markdown(rf\"$\\Large{{M_2 sin^3i}} = {M2sin3i}$\"))"
   ]
  },
  {
   "cell_type": "markdown",
   "metadata": {},
   "source": [
    "#### -----Part C-----\n",
    "\n",
    "Calculate the mean expectation value of the factor $sin^3i$, i.e., the mean value it would have among an ensemble of binaries with random inclinations. Find the masses of the two stars, if $sin^3i$ has its mean value."
   ]
  },
  {
   "cell_type": "markdown",
   "metadata": {},
   "source": [
    "#### Answer:\n",
    "\n",
    "Integrating over the solid angle:\n",
    "\n",
    "$\\int_{S}{} sin^3\\theta d\\Omega = \\int_{0}^{\\frac{\\pi}{2}}\\int_{0}^{2\\pi} sin^3\\theta sin\\theta d\\theta d\\phi = 2\\pi \\int_{0}^{\\frac{\\pi}{2}}sin^4\\theta d\\theta$\n",
    "\n",
    "But, because the observer's perspective is from the direction of the $z$-axis, the $2\\pi$, or (in this case) azimuthal, factor may be ignored.\n",
    "\n",
    "$\\int_{0}^{\\frac{\\pi}{2}}sin^4\\theta d\\theta = \\int_{0}^{\\frac{\\pi}{2}}(sin^2\\theta)^2 d\\theta$\n",
    "\n",
    "$=\\int_{0}^{\\frac{\\pi}{2}}(\\frac{1-cos(2\\theta)}{2})^2d\\theta$\n",
    "\n",
    "$=\\frac{1}{4}\\int_{0}^{\\frac{\\pi}{2}}1-2cos(2\\theta)+cos^2(2\\theta)d\\theta$\n",
    "\n",
    "$=[\\frac{3}{8}\\theta -\\frac{1}{4}sin(2\\theta)+\\frac{1}{32}sin(4\\theta)]\\Big|_{0}^\\frac{\\pi}{2}$\n",
    "\n",
    "$=\\Large \\frac{3\\pi}{16}$"
   ]
  },
  {
   "cell_type": "code",
   "execution_count": 3,
   "metadata": {},
   "outputs": [
    {
     "data": {
      "text/markdown": [
       "$\\large \\langle{sin^3i}\\rangle = 0.5890486225480862$"
      ],
      "text/plain": [
       "<IPython.core.display.Markdown object>"
      ]
     },
     "metadata": {},
     "output_type": "display_data"
    }
   ],
   "source": [
    "sin3i = 3*np.pi/16\n",
    "\n",
    "display(Markdown(rf\"$\\large \\langle{{sin^3i}}\\rangle = {sin3i}$\"))"
   ]
  },
  {
   "cell_type": "code",
   "execution_count": 4,
   "metadata": {},
   "outputs": [
    {
     "data": {
      "text/markdown": [
       "\n",
       "$\\Large {M_1} = 6.334679007426953 {M_\\odot}$\n",
       "\n",
       "$\\Large {M_2} = 3.1673395037134764 {M_\\odot}$\n"
      ],
      "text/plain": [
       "<IPython.core.display.Markdown object>"
      ]
     },
     "metadata": {},
     "output_type": "display_data"
    }
   ],
   "source": [
    "M1 = M1sin3i/sin3i\n",
    "M2 = M2sin3i/sin3i\n",
    "display(Markdown(rf\"\"\"\n",
    "$\\Large {{M_1}} = {M1} {{M_\\odot}}$\n",
    "\n",
    "$\\Large {{M_2}} = {M2} {{M_\\odot}}$\n",
    "\"\"\"))"
   ]
  }
 ],
 "metadata": {
  "kernelspec": {
   "display_name": "Python 3",
   "language": "python",
   "name": "python3"
  },
  "language_info": {
   "codemirror_mode": {
    "name": "ipython",
    "version": 3
   },
   "file_extension": ".py",
   "mimetype": "text/x-python",
   "name": "python",
   "nbconvert_exporter": "python",
   "pygments_lexer": "ipython3",
   "version": "3.7.7"
  }
 },
 "nbformat": 4,
 "nbformat_minor": 4
}
