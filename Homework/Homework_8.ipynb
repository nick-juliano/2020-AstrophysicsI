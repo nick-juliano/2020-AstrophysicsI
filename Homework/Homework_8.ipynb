{
 "cells": [
  {
   "cell_type": "markdown",
   "metadata": {},
   "source": [
    "# Nick Juliano\n",
    "# Astrophysics I | Homework 8"
   ]
  },
  {
   "cell_type": "markdown",
   "metadata": {},
   "source": [
    "## Chapter 6, Problem 2a\n",
    "\n",
    "A star is transited by a planet. From the measured period $\\tau$ and the transit duration $t_{dur}$ alone, show that one can obtain an upper bound on the density of the star $\\rho_{*,max}=3\\tau/(G\\pi^{2}t_{dur}^{3})$."
   ]
  },
  {
   "cell_type": "markdown",
   "metadata": {},
   "source": [
    "### Solution"
   ]
  },
  {
   "cell_type": "markdown",
   "metadata": {},
   "source": [
    "We know that $t_{dur}=\\frac{r_*\\tau}{\\pi a} (1-b^2)^{1/2}$\n",
    "\n",
    "We can solve for $a$ using Kepler's third law: $\\frac{a^{3}}{\\tau^{2}}\\approx\\frac{GM}{4\\pi^{2}} \\Rightarrow a=(\\frac{GM \\tau^2}{4\\pi^{2}})^{1/3}$\n",
    "\n",
    "If we assume $b=0$ and substitute the above expression for $a$ in our expression for $t_{dur}$, we can arrive at: \n",
    "\n",
    "$t_{dur}=\\frac{r_*\\tau}{\\pi (\\frac{GM \\tau^2}{4\\pi^{2}})^{1/3}}$\n",
    "\n",
    "Volume and radius are related by $r=(\\frac{3}{4\\pi}V)^{1/3}$, which we can apply to $r_*$ to relate $t_{dur}$ and $\\rho$\n",
    "\n",
    "$t_{dur}=(\\frac{\\tau}{\\rho G\\pi^{2}3})^{1/3}$\n",
    "\n",
    "Therefore,\n",
    "\n",
    "$\\LARGE \\rho_{*,max}=(\\frac{3\\tau}{t_{dur}^3 G\\pi^{2}})$"
   ]
  },
  {
   "cell_type": "markdown",
   "metadata": {},
   "source": [
    "***"
   ]
  },
  {
   "cell_type": "markdown",
   "metadata": {},
   "source": [
    "### Chapter 6, Problem 3\n",
    "\n",
    "A gravitational lens of mass $M$ is halfway along the line between a source and an observer, at a distance $d$ from each, and produces an Einstein ring. Find the angular radius of the ring $\\theta_{E}$, in terms of $M$ and $d$. For a one-Solar-mass lens, at which distance $d$ will the Einstein ring's radius appear larger than a Solar radius (i.e., the ring will not be hidden behind a Sun-like star acting as the lens)?"
   ]
  },
  {
   "cell_type": "markdown",
   "metadata": {},
   "source": [
    "### Solution"
   ]
  },
  {
   "cell_type": "markdown",
   "metadata": {},
   "source": [
    "For a one-Solar-mass lens, $\\theta_{E}=0.64\\times10^{3}arcsec(\\frac{d}{10kpc})^{-1/2}$, and to solve this problem we need to solve for $d$ when $\\theta_{E}$ is equivalent to the angular radius of the Sun $\\theta_{\\odot}$ at that distance.\n",
    "\n",
    "Knowing that $\\theta_{\\odot} =\\frac{R_{sun}}{d}$, our expression takes the form $\\frac{R_{sun}}{d}=0.64\\times10^{3}arcsec(\\frac{d}{10kpc})^{-1/2}$\n",
    "\n",
    "Solving this for $d$ gives us $d=(\\frac{R_{sun}}{0.64\\times10^{3}arcsec})^{2}\\frac{1}{10kpc}$\n",
    "\n",
    "Solved analytically below:"
   ]
  },
  {
   "cell_type": "code",
   "execution_count": 22,
   "metadata": {},
   "outputs": [
    {
     "name": "stdout",
     "output_type": "stream",
     "text": [
      "The distance the Einstein ring's radius will appear larger than a Solar radius is 3.83e-07 pc\n"
     ]
    }
   ],
   "source": [
    "d=(((6.96e10)/0.64e3)**2)/1e4\n",
    "print(\"The distance the Einstein ring's radius will appear larger than a Solar radius is {:.2e} pc\".format(d/3.085678e18))"
   ]
  },
  {
   "cell_type": "markdown",
   "metadata": {},
   "source": [
    "***"
   ]
  },
  {
   "cell_type": "markdown",
   "metadata": {},
   "source": [
    "### Chapter 7, Problem 4\n",
    "\n",
    "We calculated the probability that a star in the LMC is gravitationally lensed by MACHOs composing the Galaxy's dark halo. Repeat theis calculation, but for star-star lensing in the direction of the galaxy center, i.e., estimate to an order of magnitude the probability that a star in the bulge of our galaxy will be gravitationally lensed by another star in the galactic disk, close to our line of sight to the bulge star.\n",
    "\n",
    "Assume that we are at a distance $r=8kpc$ from the bulge, a typical stellar mass is $0.5M_{\\odot}$, the stellar mass in the disk interior to the solar radius is $5\\times10^{10}M_{\\odot}$, and the thickness of the disk is $2h=1kpc$."
   ]
  },
  {
   "cell_type": "markdown",
   "metadata": {},
   "source": [
    "### Solution"
   ]
  },
  {
   "cell_type": "markdown",
   "metadata": {},
   "source": [
    "Taking the expression for the number of MACHOs along the line of sight to an outside light source and applying it to star-star lensing, we see that $N\\approx\\frac{GM_{dm}}{lc^{2}} \\Rightarrow N\\approx\\frac{G(5\\times10^{10}M_{sun})}{(8kpc)c^{2}}$, which is calculated below:"
   ]
  },
  {
   "cell_type": "code",
   "execution_count": 17,
   "metadata": {},
   "outputs": [
    {
     "name": "stdout",
     "output_type": "stream",
     "text": [
      "\n",
      "Estimated to an order of magnitude, \n",
      "the probability that a star in the bulge of our galaxy \n",
      "will be gravitationally lensed by another star in the galactic disk is 2.99e-07\n",
      "\n"
     ]
    }
   ],
   "source": [
    "N=(6.67e-8*5e10*1.989e33)/(8000*3.085678e18*3e10**2) #all units in CGS\n",
    "\n",
    "print(\"\"\"\n",
    "Estimated to an order of magnitude, \n",
    "the probability that a star in the bulge of our galaxy \n",
    "will be gravitationally lensed by another star in the galactic disk is {:.2e}\n",
    "\"\"\".format(N))"
   ]
  }
 ],
 "metadata": {
  "kernelspec": {
   "display_name": "Python 3",
   "language": "python",
   "name": "python3"
  },
  "language_info": {
   "codemirror_mode": {
    "name": "ipython",
    "version": 3
   },
   "file_extension": ".py",
   "mimetype": "text/x-python",
   "name": "python",
   "nbconvert_exporter": "python",
   "pygments_lexer": "ipython3",
   "version": "3.8.3"
  }
 },
 "nbformat": 4,
 "nbformat_minor": 4
}
