{
 "cells": [
  {
   "cell_type": "markdown",
   "metadata": {},
   "source": [
    "## Nick Juiliano | AST 713 | HW 1"
   ]
  },
  {
   "cell_type": "markdown",
   "metadata": {},
   "source": [
    "# Question 2\n",
    "\n",
    "A CCD detector at the focal plane of a 1-m-diameter telescope records the image of a certain star. Due to the blurring effect of the atmostphere \n",
    "(this is called \"seeing\" by astronomers) the light from the star is spread over a circular area of radius R pixels.\n",
    "The total number of photoelectrons over this area, accumulated during the exposure, and due to the light of the star, is N_star. Light from the sky produces n_sky photoelectrons per pixel in the same exposure."
   ]
  },
  {
   "cell_type": "code",
   "execution_count": 7,
   "metadata": {},
   "outputs": [],
   "source": [
    "from numpy import pi\n",
    "\n",
    "#create preliminary variables\n",
    "\n",
    "tel_diam = 1 #meters\n",
    "\n",
    "#R_spread = pixel radius from spread of starlight due to blur\n",
    "#N_star = photoelectrons from star accumulated during exposure\n",
    "#n_sky = photoelectrons per pixel in same exposure"
   ]
  },
  {
   "cell_type": "markdown",
   "metadata": {},
   "source": [
    "### Part A\n",
    "\n",
    "Calculate the signal-to-noise ratio (S/N) of the photometric measurement of the star, i.e., the ratio of the counts from the star to the uncertainty in this measurement. \n",
    "Assume Poisson statistics, i.e., that the \"noise\" is the square root of the total counts, from all sources."
   ]
  },
  {
   "cell_type": "code",
   "execution_count": 20,
   "metadata": {},
   "outputs": [
    {
     "name": "stdout",
     "output_type": "stream",
     "text": [
      "S/N =  1.9984304364055696\n"
     ]
    }
   ],
   "source": [
    "def sig_to_noise(tel_diam, N_star, n_sky, r_spread):\n",
    "    a_spread = pi * r_spread**2            # area of starlight spread due to blur\n",
    "    Signal   = N_star                            # total number of photoelectrons over a_spread\n",
    "    N_tot    = N_star+(n_sky*pi*(0.5*tel_diam)**2)  # photoelectrons per pixel * area of spread\n",
    "    Noise    = N_tot**1/2\n",
    "    Signal   = Signal/Noise\n",
    "    return Signal\n",
    "    \n",
    "print(\"S/N = \", sig_to_noise(1, 1000, 1, 0.1))"
   ]
  },
  {
   "cell_type": "markdown",
   "metadata": {},
   "source": [
    "### Part B\n",
    "\n",
    "The same star is observed with the same exposure time, but with a 10-m-diameter telescope. This larger telescope naturally has a larger light gathering area, but also is at a site with a more stable atmosphere,\n",
    "and therefore has 3 times better \"seeing\" (i.e., the light from the stars is spread over an area of radius R/3). Find the S/N in this case."
   ]
  },
  {
   "cell_type": "code",
   "execution_count": 19,
   "metadata": {},
   "outputs": [
    {
     "name": "stdout",
     "output_type": "stream",
     "text": [
      "S/N =  1.8543589858253235\n"
     ]
    }
   ],
   "source": [
    "print(\"S/N = \", sig_to_noise(10, 1000, 1, 0.1/3))"
   ]
  },
  {
   "cell_type": "markdown",
   "metadata": {},
   "source": [
    "### Part C\n",
    "\n",
    "Assuming that the star and the sky aree not variable (i.e., photosn arrive from them at a constant rate), find the functional dependence of S/N on exposure time, t, in the sky in the \"seeing disk\" (this is called the source-limited\" case; and vice versa (called the \"background-limited\" case."
   ]
  },
  {
   "cell_type": "markdown",
   "metadata": {},
   "source": [
    "Answer: S/M is proportional to t^1/2 in both cases."
   ]
  },
  {
   "cell_type": "code",
   "execution_count": null,
   "metadata": {},
   "outputs": [],
   "source": []
  },
  {
   "cell_type": "markdown",
   "metadata": {},
   "source": [
    "### Part D\n",
    "\n",
    "Based on the results of (c), by what factor does the exposure time with the 1-m telescope need to be increased to reach the S/N obtained with the 10-m telescope, for each of the two limiting cases?"
   ]
  },
  {
   "cell_type": "markdown",
   "metadata": {},
   "source": [
    "Answer: By a factor of 100 in the first case, and 1000 in the second case"
   ]
  },
  {
   "cell_type": "code",
   "execution_count": null,
   "metadata": {},
   "outputs": [],
   "source": []
  }
 ],
 "metadata": {
  "kernelspec": {
   "display_name": "Python 3",
   "language": "python",
   "name": "python3"
  },
  "language_info": {
   "codemirror_mode": {
    "name": "ipython",
    "version": 3
   },
   "file_extension": ".py",
   "mimetype": "text/x-python",
   "name": "python",
   "nbconvert_exporter": "python",
   "pygments_lexer": "ipython3",
   "version": "3.7.7"
  }
 },
 "nbformat": 4,
 "nbformat_minor": 4
}
